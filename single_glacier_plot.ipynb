{
 "cells": [
  {
   "cell_type": "markdown",
   "id": "4148cd51-2a0a-4e84-9007-d4008e19e593",
   "metadata": {},
   "source": [
    "## Single glacier runoff series for multiple GCMs"
   ]
  },
  {
   "cell_type": "code",
   "execution_count": null,
   "id": "0f1578ab-952b-4de1-bed6-d02d6a32c5b7",
   "metadata": {},
   "outputs": [],
   "source": [
    "import xarray as xr\n",
    "import pandas as pd\n",
    "import numpy as np\n",
    "import matplotlib.pyplot as plt\n",
    "from matplotlib import cm\n",
    "from cycler import cycler\n",
    "import datetime "
   ]
  },
  {
   "cell_type": "markdown",
   "id": "50b9c119-b5f4-4b77-8ac8-65b8f3a0aaa5",
   "metadata": {},
   "source": [
    "### Define the case we'll study\n",
    "We will need to make some consistent selections below: which basin, which SSP, which GCM to compare the two glacier models' output."
   ]
  },
  {
   "cell_type": "code",
   "execution_count": null,
   "id": "bbf7fe46-71cd-4e2e-8e78-56b70696772c",
   "metadata": {},
   "outputs": [],
   "source": [
    "test_glacier = 'RGI60-11.00181'\n",
    "\n",
    "all_ssps = ['ssp119', 'ssp126', 'ssp245', 'ssp370', 'ssp585']\n",
    "which_ssp = all_ssps[1]   #specifying the SSP\n",
    "\n",
    "#All of the climate models used in GloGEM\n",
    "modelnames = ['BCC-CSM2-MR','CAMS-CSM1-0','CESM2','CESM2-WACCM','EC-Earth3','EC-Earth3-Veg','FGOALS-f3-L','GFDL-ESM4',\n",
    "              'INM-CM4-8','INM-CM5-0','MPI-ESM1-2-HR','MRI-ESM2-0']\n",
    "which_model = modelnames[0] ## specify one model (for GloGEM format)\n",
    "\n",
    "# PyGEM has 12 GCM forcings as well; TODO: confirm they are in the same order as above.  Until then, use BCC-CSM2-MR\n",
    "which_gcm = 1 ## applies to PyGEM"
   ]
  },
  {
   "cell_type": "code",
   "execution_count": null,
   "id": "7ed41f21-a6a2-4458-abc2-cf2f9f3602fc",
   "metadata": {},
   "outputs": [],
   "source": [
    "## define local file paths\n",
    "fstem_pygem = '/Volumes/GoogleDrive/My Drive/Runoff-intercomparison/PyGEM/11/R11_runoff_monthly_c2_ba1_1set_2000_2100-{}-Batch-'.format(which_ssp)\n",
    "fpath_glogem_huss = '/Volumes/GoogleDrive/My Drive/Runoff-intercomparison/GloGEM-output/'\n",
    "# fpath_oggm = '/Volumes/GoogleDrive/My Drive/Runoff-intercomparison/OGGM/{}/'.format(test_basin)"
   ]
  },
  {
   "cell_type": "markdown",
   "id": "bde1df80-40fc-4a7c-8c95-8f377bef2936",
   "metadata": {},
   "source": [
    "Define which batch has our ID of interest, which you can read from the last 4 digits of the RGI ID."
   ]
  },
  {
   "cell_type": "code",
   "execution_count": null,
   "id": "df80d2d8-0649-4da6-970d-8e638d1dc8de",
   "metadata": {},
   "outputs": [],
   "source": [
    "which_batch = '1-1000.nc'\n",
    "\n",
    "ds_pygem = xr.open_dataset(fstem_pygem+which_batch)"
   ]
  },
  {
   "cell_type": "code",
   "execution_count": null,
   "id": "fd54516b-0fb0-4d52-983b-c3023df28b54",
   "metadata": {},
   "outputs": [],
   "source": [
    "tg = int(test_glacier.replace('RGI60-11.00', '')) ## transform test glacier ID into an index within this batch\n",
    "single_glacier_pygem = ds_pygem.glac_runoff_monthly.sel(glacier=tg).resample(time='AS').sum()"
   ]
  },
  {
   "cell_type": "code",
   "execution_count": null,
   "id": "8c9df3b8-b0ed-4a01-a8f8-89ad43021bc5",
   "metadata": {},
   "outputs": [],
   "source": [
    "total_models = 13\n",
    "color_spacing = np.linspace(0,1, num=total_models)\n",
    "line_colors = plt.colormaps['magma'](color_spacing)\n",
    "\n",
    "fig, ax = plt.subplots()\n",
    "for i in range(1,13):\n",
    "    to_plot = single_glacier_pygem.sel(model=i).rolling(time=15, min_periods=10).mean()\n",
    "    ax.plot(to_plot.time.values, to_plot, color=line_colors[i], label=to_plot.Climate_Model.values)\n",
    "ax.legend(loc='best')\n",
    "ax.set(xlim=(datetime.date(2000,1,1), datetime.date(2101,1,1)),\n",
    "      ylim = (4.75e6, 8.5e6),\n",
    "       xlabel='Year',\n",
    "       ylabel='Annual runoff [m3]',\n",
    "       title='PyGEM, {}'.format(which_ssp)\n",
    "      )\n",
    "# single_glacier_pygem.plot.line(hue='model')"
   ]
  },
  {
   "cell_type": "markdown",
   "id": "18402313-eaaf-4f37-af36-e20604093d9b",
   "metadata": {},
   "source": [
    "### GloGEM values for comparison"
   ]
  },
  {
   "cell_type": "code",
   "execution_count": null,
   "id": "dcdc72cd-3579-41cf-a4f0-267c4cfa2b30",
   "metadata": {},
   "outputs": [],
   "source": [
    "df_disc_huss = pd.read_csv(fpath_glogem_huss +'Discharge-20230124/{}/RGIreg11_Discharge_individual.dat'.format(which_ssp), \n",
    "                           sep='\\s+', header=0, skiprows=1, index_col=0)\n",
    "df_disc_huss.columns = pd.to_datetime(df_disc_huss.columns)\n",
    "\n",
    "#Read glacier area (INITIAL) to a pandas dataframe\n",
    "df_area_huss = pd.read_csv(fpath_glogem_huss+'/Area-20230124/{}/RGIreg11_Area_individual.dat'.format(which_ssp), \n",
    "                           sep='\\s+', header=0, skiprows=1, index_col=0)\n",
    "df_area_huss.columns = pd.to_datetime(df_area_huss.columns)\n",
    "df_area_init = df_area_huss.loc[:,'1980-01-01'] ## select just the initial area to compute basin runoff"
   ]
  },
  {
   "cell_type": "code",
   "execution_count": null,
   "id": "70a39da3-89c0-4f7d-8a90-c072ee6df845",
   "metadata": {},
   "outputs": [],
   "source": []
  },
  {
   "cell_type": "code",
   "execution_count": null,
   "id": "203ea419-cc98-462d-857b-6786a4e547d6",
   "metadata": {
    "tags": []
   },
   "outputs": [],
   "source": [
    "tg_huss = float(test_glacier.replace('RGI60-', ''))\n",
    "single_glacier_glogem_huss = df_disc_huss.loc[tg_huss] ## select the rows with IDs found in the list\n",
    "## allowing pandas to use the RGI IDs as a float for now...TODO - confirm this will work okay\n",
    "\n",
    "annual_singleglac = single_glacier_glogem_huss.transpose().resample('AS').sum() ## annual total discharge per glacier\n",
    "annual_singleglac"
   ]
  },
  {
   "cell_type": "code",
   "execution_count": null,
   "id": "18e1d8bc-a5b4-420b-a8e0-917acfa7d039",
   "metadata": {},
   "outputs": [],
   "source": [
    "df_area_single = df_area_init.loc[tg_huss]"
   ]
  },
  {
   "cell_type": "code",
   "execution_count": null,
   "id": "464bbb91-f8cf-4644-821f-bf03052236ba",
   "metadata": {},
   "outputs": [],
   "source": [
    "single_glac_glogem_runoff = annual_singleglac.mul(df_area_single)[:-1]"
   ]
  },
  {
   "cell_type": "code",
   "execution_count": null,
   "id": "2c2ffd11-0754-465c-87a6-fb7cf300a8ba",
   "metadata": {},
   "outputs": [],
   "source": [
    "# single_runoff_total_gt = 1e-3 * single_glac_glogem_runoff[:-1]"
   ]
  },
  {
   "cell_type": "code",
   "execution_count": null,
   "id": "438cc5af-4e62-4c90-9649-38cb0323989d",
   "metadata": {},
   "outputs": [],
   "source": [
    "fig, ax = plt.subplots()\n",
    "single_glac_glogem_runoff.plot(ax=ax)\n",
    "ax.set(xlabel = 'Year', ylabel='Annual runoff [m3]',\n",
    "      xlim=(datetime.date(2000,1,1), datetime.date(2101,1,1))) ## visualize runoff to the example basin from GloGEM"
   ]
  },
  {
   "cell_type": "code",
   "execution_count": null,
   "id": "331b8f37-ffec-4ced-a426-dfe13052d702",
   "metadata": {},
   "outputs": [],
   "source": [
    "df_disc_huss"
   ]
  },
  {
   "cell_type": "code",
   "execution_count": null,
   "id": "d17b2868-c436-4047-ad84-d31df000dc82",
   "metadata": {},
   "outputs": [],
   "source": [
    "df_disc_huss_raw = pd.read_csv(fpath_glogem_huss +'Discharge-20230124/{}/RGIreg11_Discharge_individual.dat'.format(which_ssp), \n",
    "                           sep='\\s+', header=0, skiprows=1, index_col=0)"
   ]
  },
  {
   "cell_type": "code",
   "execution_count": null,
   "id": "92a78828-e028-4611-902d-101696f2d92c",
   "metadata": {},
   "outputs": [],
   "source": [
    "df_disc_huss_raw"
   ]
  },
  {
   "cell_type": "markdown",
   "id": "db2f09cc-33e1-418c-a3d6-a227fd09a3b6",
   "metadata": {},
   "source": [
    "### Raw GloGEM read-in, following Finn\n",
    "TODO: incorporate Finn's script via Henson remote access"
   ]
  },
  {
   "cell_type": "code",
   "execution_count": null,
   "id": "504885c0-9819-4dc5-8f05-571f8e7f767f",
   "metadata": {},
   "outputs": [],
   "source": []
  }
 ],
 "metadata": {
  "kernelspec": {
   "display_name": "Python 3 (ipykernel)",
   "language": "python",
   "name": "python3"
  },
  "language_info": {
   "codemirror_mode": {
    "name": "ipython",
    "version": 3
   },
   "file_extension": ".py",
   "mimetype": "text/x-python",
   "name": "python",
   "nbconvert_exporter": "python",
   "pygments_lexer": "ipython3",
   "version": "3.10.9"
  }
 },
 "nbformat": 4,
 "nbformat_minor": 5
}
