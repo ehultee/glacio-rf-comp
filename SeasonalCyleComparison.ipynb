{
 "cells": [
  {
   "cell_type": "markdown",
   "id": "68029434-de3b-46a6-92e3-70950c779277",
   "metadata": {
    "tags": []
   },
   "source": [
    "## Seasonal cycle analysis\n",
    "We suspect that the seasonality of runoff will shift over time in many basins, peaking earlier in the hydrological year.  This would also have an effect on the 3-month SPEI we have been computing.\n",
    "\n",
    "This notebook aims to plot the seasonal cycle of runoff in a case study basin, here the INDUS.  We will read in the runoff aggregated to basin scale by Finn Wimberly.\n",
    "\n",
    "13 Oct 2023 | EHU\n",
    "- Update 15 Mar 2024: attempt a grouped box plot for the three models' cycles, for all basins"
   ]
  },
  {
   "cell_type": "code",
   "execution_count": null,
   "id": "a8db16e8-90b4-4f59-b03d-b83809928a27",
   "metadata": {},
   "outputs": [],
   "source": [
    "import numpy as np\n",
    "import pandas as pd\n",
    "import matplotlib.pyplot as plt\n",
    "from matplotlib import cm\n",
    "from datetime import date\n",
    "import collections\n",
    "import datetime\n",
    "import itertools\n",
    "import json\n",
    "import os\n",
    "\n",
    "\n",
    "## Generic the filepath to the main data folder\n",
    "# fpath = '/Users/lizz/Documents/GitHub/Data_unsynced/Runoff-intercomparison/BasinAggregated-FW/RGI 13/'\n",
    "fpath = '/Users/lizz/Documents/GitHub/Data_unsynced/Runoff-intercomparison/BasinAggregated-FW/RGI 11/' ## check an unaffected basin\n",
    "fpath = '/Volumes/GoogleDrive/.shortcut-targets-by-id/1M3W4MT2CRgIZULUT5TXC3gDeFyKkA9DX/Runoff/RGI 13/' ## check updated outputs\n",
    "\n",
    "\n",
    "#All of the climate models used\n",
    "modelnames_short = ['BCC-CSM2-MR',\n",
    "                    'MPI-ESM1-2-HR',\n",
    "                    'MRI-ESM2-0',\n",
    "                    'CESM2-WACCM',\n",
    "                    'NorESM2-MM'] ## these are the ones for which we have GCM data as of Oct 2023\n",
    "\n",
    "SSPpaths = ['ssp126','ssp245','ssp370','ssp585']   #Specifiying the SSP"
   ]
  },
  {
   "cell_type": "code",
   "execution_count": null,
   "id": "cbe9690e-89c9-4cd6-b1e5-4a2526b59715",
   "metadata": {},
   "outputs": [],
   "source": [
    "this_GCM = modelnames_short[0]\n",
    "this_basin = 'INDUS'\n",
    "scen=SSPpaths[1]\n",
    "\n",
    "fname = fpath +'runoff_AlignedMonthly_{}_{}_{}.csv'.format(this_GCM, scen, this_basin)\n",
    "temp_df = pd.read_csv(fname, index_col=0)\n",
    "temp_df.index = pd.to_datetime(temp_df.index)"
   ]
  },
  {
   "cell_type": "code",
   "execution_count": null,
   "id": "fa88ffc3-3360-456a-b9c2-47f76926ab33",
   "metadata": {},
   "outputs": [],
   "source": [
    "temp_df.index"
   ]
  },
  {
   "cell_type": "code",
   "execution_count": null,
   "id": "4b400c4d-7e58-4162-b571-a199eaf57f95",
   "metadata": {
    "tags": []
   },
   "outputs": [],
   "source": [
    "td = temp_df.loc[(temp_df.index.month==1) & (temp_df.index.year>2000) & (temp_df.index.year<2011)]"
   ]
  },
  {
   "cell_type": "code",
   "execution_count": null,
   "id": "3ce482e2-d539-46d7-bdb0-758137dd05e1",
   "metadata": {},
   "outputs": [],
   "source": [
    "td.mean(axis=0)"
   ]
  },
  {
   "cell_type": "code",
   "execution_count": null,
   "id": "3dc6aa55-423e-4d54-b24f-ae189064bb77",
   "metadata": {},
   "outputs": [],
   "source": [
    "def decadal_mean(df, year_lower, year_upper):\n",
    "    months=np.arange(1,13)\n",
    "    # monthly_mean = {m: for m in months}\n",
    "    monthly_df = pd.DataFrame()\n",
    "    for m in months:\n",
    "        monthly_vals = df.loc[(df.index.month==m) \n",
    "                              & (df.index.year>year_lower)\n",
    "                              & (df.index.year<year_upper)]\n",
    "        monthly_mean = monthly_vals.mean(axis=0) \n",
    "        monthly_df[m] = monthly_mean\n",
    "    # monthly_df.index = months\n",
    "    return monthly_df.transpose()"
   ]
  },
  {
   "cell_type": "code",
   "execution_count": null,
   "id": "65c046fb-e49d-4126-ac18-b1468eaa9192",
   "metadata": {},
   "outputs": [],
   "source": [
    "new_df = decadal_mean(temp_df, 2000,2011)"
   ]
  },
  {
   "cell_type": "code",
   "execution_count": null,
   "id": "2f97852e-8759-4868-9566-e5d4aa684539",
   "metadata": {},
   "outputs": [],
   "source": [
    "new_df"
   ]
  },
  {
   "cell_type": "code",
   "execution_count": null,
   "id": "8572064e-850a-4fc4-af1e-4ea3393461b9",
   "metadata": {},
   "outputs": [],
   "source": [
    "fig,ax=plt.subplots()\n",
    "ax.plot(new_df['GloGEM'], color='Green', label='GloGEM')\n",
    "ax.plot(new_df['PyGEM'], color='Purple', label='PyGEM')\n",
    "ax.plot(new_df['OGGM'], color='Blue', label='OGGM')\n",
    "ax.set(xlabel='Month', \n",
    "       ylabel='Runoff [km$^{3}$, TBC]', \n",
    "       title='Seasonal cycle in {}, years 2001-2010, {}, {}'.format(this_basin, this_GCM, scen),\n",
    "      xticks=(1,3,6,9,12))\n",
    "ax.legend(loc='best')\n",
    "plt.show()"
   ]
  },
  {
   "cell_type": "markdown",
   "id": "032f5f93-c8bc-4d9f-b87a-b819a9fe3fc1",
   "metadata": {},
   "source": [
    "Cool.  We have produced an example for the early-21st-century case, with one GCM.  Now we want to compare the end of the 21st century for the same model.  Eventually, we want to show all 5 GCMs together...but this will require a little more cmputation."
   ]
  },
  {
   "cell_type": "code",
   "execution_count": null,
   "id": "94374db3-18cf-4033-8e8f-2cbbedf07ed4",
   "metadata": {},
   "outputs": [],
   "source": [
    "new_df_end21C = decadal_mean(temp_df, 2090,2101)"
   ]
  },
  {
   "cell_type": "code",
   "execution_count": null,
   "id": "204af76b-1ffa-4d52-9f86-f6628413d7ca",
   "metadata": {},
   "outputs": [],
   "source": [
    "fig,ax=plt.subplots()\n",
    "ax.plot(new_df_end21C['GloGEM'], color='Green', label='GloGEM')\n",
    "ax.plot(new_df_end21C['PyGEM'], color='Purple', label='PyGEM')\n",
    "ax.plot(new_df_end21C['OGGM'], color='Blue', label='OGGM')\n",
    "ax.set(xlabel='Month', \n",
    "       ylabel='Runoff [km$^{3}$, TBC]', \n",
    "       title='Seasonal cycle in {}, years 2091-2100, {}, {}'.format(this_basin, this_GCM, scen),\n",
    "      xticks=(1,3,6,9,12))\n",
    "ax.legend(loc='best')\n",
    "plt.show()"
   ]
  },
  {
   "cell_type": "markdown",
   "id": "031b9994-cf77-48df-b52f-d4541841515a",
   "metadata": {},
   "source": [
    "Plot the two together to see the difference."
   ]
  },
  {
   "cell_type": "code",
   "execution_count": null,
   "id": "00399382-33a8-433f-aad8-db8e1631e7f9",
   "metadata": {},
   "outputs": [],
   "source": [
    "fig,(ax1,ax2)=plt.subplots(2, sharex=True, sharey=True)\n",
    "ax1.plot(new_df['GloGEM'], color='Green', label='GloGEM')\n",
    "ax1.plot(new_df['PyGEM'], color='Purple', label='PyGEM')\n",
    "ax1.plot(new_df['OGGM'], color='Blue', label='OGGM')\n",
    "ax1.annotate('2001-2010', xy=(10,15))\n",
    "ax1.legend(loc='upper left')\n",
    "\n",
    "ax2.plot(new_df_end21C['GloGEM'], color='Green', label='GloGEM')\n",
    "ax2.plot(new_df_end21C['PyGEM'], color='Purple', label='PyGEM')\n",
    "ax2.plot(new_df_end21C['OGGM'], color='Blue', label='OGGM')\n",
    "ax2.annotate('2091-2100', xy=(10,15))\n",
    "\n",
    "fig.supxlabel('Month')\n",
    "fig.supylabel('Runoff [km$^{3}$, TBC]')\n",
    "fig.suptitle('Seasonal cycle in {}, {}, {}'.format(this_basin, this_GCM, scen))\n",
    "# ax2.set(xlabel='Month', \n",
    "#        ylabel='Runoff [km$^{3}$, TBC]', \n",
    "#        title='Seasonal cycle in {}, years 2091-2100, {}, {}'.format(this_basin, this_GCM, scen),\n",
    "#       xticks=(1,3,6,9,12))"
   ]
  },
  {
   "cell_type": "markdown",
   "id": "d9e917d0-7d71-487d-a1f3-5363bdd089a8",
   "metadata": {},
   "source": [
    "### Compare with another GCM\n",
    "In our SPEI analysis (Oct 2023) BCC-CSM2-MR showed GloGEM positively buffering, OGGM negatively buffering, and PyGEM not doing much buffering.  The GCM MRI-ESM2-0 instead showed all three models negatively buffering, with OGGM the least negative.  What does the seasonal cycle look like for that example?"
   ]
  },
  {
   "cell_type": "code",
   "execution_count": null,
   "id": "41208f3d-e2ff-427a-be60-6c9254847b07",
   "metadata": {},
   "outputs": [],
   "source": [
    "this_GCM = modelnames_short[2]\n",
    "this_basin = 'INDUS'\n",
    "scen=SSPpaths[1]\n",
    "\n",
    "fname = fpath +'runoff_AlignedMonthly_{}_{}_{}.csv'.format(this_GCM, scen, this_basin)\n",
    "temp_df = pd.read_csv(fname, index_col=0)\n",
    "temp_df.index = pd.to_datetime(temp_df.index)"
   ]
  },
  {
   "cell_type": "code",
   "execution_count": null,
   "id": "7e604ec1-90cd-4274-9e19-d91ccead12c0",
   "metadata": {},
   "outputs": [],
   "source": [
    "new_stack_early21C= decadal_mean(temp_df, 2000,2011)\n",
    "new_stack_late21C =decadal_mean(temp_df, 2090,2101)"
   ]
  },
  {
   "cell_type": "code",
   "execution_count": null,
   "id": "05e46cbe-be53-4d6b-9835-224595a40d92",
   "metadata": {},
   "outputs": [],
   "source": [
    "fig,(ax1,ax2)=plt.subplots(2, sharex=True, sharey=True)\n",
    "ax1.plot(new_stack_early21C['GloGEM'], color='Green', label='GloGEM')\n",
    "ax1.plot(new_stack_early21C['PyGEM'], color='Purple', label='PyGEM')\n",
    "ax1.plot(new_stack_early21C['OGGM'], color='Blue', label='OGGM')\n",
    "ax1.annotate('2001-2010', xy=(10,15))\n",
    "ax1.legend(loc='upper left')\n",
    "\n",
    "ax2.plot(new_stack_late21C['GloGEM'], color='Green', label='GloGEM')\n",
    "ax2.plot(new_stack_late21C['PyGEM'], color='Purple', label='PyGEM')\n",
    "ax2.plot(new_stack_late21C['OGGM'], color='Blue', label='OGGM')\n",
    "ax2.annotate('2091-2100', xy=(10,15))\n",
    "\n",
    "fig.supxlabel('Month')\n",
    "fig.supylabel('Runoff [km$^{3}$, TBC]')\n",
    "fig.suptitle('Seasonal cycle in {}, {}, {}'.format(this_basin, this_GCM, scen))\n",
    "# ax2.set(xlabel='Month', \n",
    "#        ylabel='Runoff [km$^{3}$, TBC]', \n",
    "#        title='Seasonal cycle in {}, years 2091-2100, {}, {}'.format(this_basin, this_GCM, scen),\n",
    "#       xticks=(1,3,6,9,12))"
   ]
  },
  {
   "cell_type": "code",
   "execution_count": null,
   "id": "a9bae8af-f364-4d2d-a889-9370fab7452b",
   "metadata": {},
   "outputs": [],
   "source": [
    "fig,ax = plt.subplots()\n",
    "ax.plot(new_df['PyGEM'])"
   ]
  },
  {
   "cell_type": "markdown",
   "id": "a0461d4a-5507-4892-b5cd-8d08b2b0dcc1",
   "metadata": {},
   "source": [
    "Something strange is going on with PyGEM.  Finn is looking into it (13 Oct 2023 13:45 ET).  Meanwhile, let's visualise the _change_ in the seasonal cycle from beginning to end of century."
   ]
  },
  {
   "cell_type": "markdown",
   "id": "aa57204f-645f-413c-b969-c8f8fa6f8d32",
   "metadata": {},
   "source": [
    "## Change in seasonal cycle"
   ]
  },
  {
   "cell_type": "code",
   "execution_count": null,
   "id": "df9464ab-4e89-4d27-934e-54cc70ff4c7a",
   "metadata": {},
   "outputs": [],
   "source": [
    "mvals = np.arange(1,13)\n",
    "\n",
    "fig,(ax1,ax2,ax3)=plt.subplots(1,3, sharey=True, sharex=True)\n",
    "\n",
    "for ax in (ax1,ax2,ax3):\n",
    "    ax.axhline(y=0, ls=':', lw=0.5, color='k')\n",
    "    ax.set(xticks=(2,4,6,8,10,12))\n",
    "\n",
    "ax1.bar(mvals,new_stack_late21C['GloGEM']-new_stack_early21C['GloGEM'], \n",
    "       color='Green', label='GloGEM')\n",
    "ax2.bar(mvals,new_stack_late21C['PyGEM']-new_stack_early21C['PyGEM'], \n",
    "       color='Purple', label='PyGEM')\n",
    "ax3.bar(mvals,new_stack_late21C['OGGM']-new_stack_early21C['OGGM'], \n",
    "       color='Blue', label='OGGM')\n",
    "\n",
    "fig.supxlabel('Month')\n",
    "fig.supylabel('Runoff [km$^{3}$]')\n",
    "fig.suptitle('Change in seasonal runoff, {}, late 21st C. versus early 21st C.'.format(this_basin))"
   ]
  },
  {
   "cell_type": "markdown",
   "id": "1a6a5a6f-57c3-4778-9fa9-7d58c02ad3cf",
   "metadata": {},
   "source": [
    "## Plot all GCMs together"
   ]
  },
  {
   "cell_type": "code",
   "execution_count": null,
   "id": "238d5c3e-dacd-4090-84f2-644c9fb61461",
   "metadata": {},
   "outputs": [],
   "source": [
    "multiGCM_df_glo = {m: [] for m in modelnames_short}\n",
    "multiGCM_df_py = {m: [] for m in modelnames_short}\n",
    "multiGCM_df_og = {m: [] for m in modelnames_short}\n",
    "\n",
    "for m in modelnames_short:\n",
    "    fname = fpath +'runoff_AlignedMonthly_{}_{}_{}.csv'.format(m, scen, this_basin)\n",
    "    temp_df = pd.read_csv(fname, index_col=0)\n",
    "    temp_df.index = pd.to_datetime(temp_df.index)\n",
    "    multiGCM_df_glo[m] = temp_df['GloGEM']\n",
    "    multiGCM_df_py[m] = temp_df['PyGEM']\n",
    "    multiGCM_df_og[m] = temp_df['OGGM']\n",
    "\n",
    "multiGCM_df_glo = pd.DataFrame.from_dict(multiGCM_df_glo)\n",
    "multiGCM_df_py = pd.DataFrame.from_dict(multiGCM_df_py)\n",
    "multiGCM_df_og = pd.DataFrame.from_dict(multiGCM_df_og)"
   ]
  },
  {
   "cell_type": "code",
   "execution_count": null,
   "id": "552f8faa-a857-4cdf-b763-34dd45a09443",
   "metadata": {},
   "outputs": [],
   "source": [
    "multiGCM_df_og"
   ]
  },
  {
   "cell_type": "code",
   "execution_count": null,
   "id": "abc8041d-65ac-4295-a5fc-0ea091d4b339",
   "metadata": {},
   "outputs": [],
   "source": [
    "dmean_og_early = decadal_mean(multiGCM_df_og, year_lower=2000, year_upper=2011)\n",
    "dmean_py_early = decadal_mean(multiGCM_df_py, year_lower=2000, year_upper=2011)\n",
    "dmean_glo_early = decadal_mean(multiGCM_df_glo, year_lower=2000, year_upper=2011)\n",
    "\n",
    "dmean_og_late = decadal_mean(multiGCM_df_og, year_lower=2090, year_upper=2101)\n",
    "dmean_py_late = decadal_mean(multiGCM_df_py, year_lower=2090, year_upper=2101)\n",
    "dmean_glo_late = decadal_mean(multiGCM_df_glo, year_lower=2090, year_upper=2101)"
   ]
  },
  {
   "cell_type": "code",
   "execution_count": null,
   "id": "84886465-a35b-4015-97da-1fba9bd9cdd7",
   "metadata": {},
   "outputs": [],
   "source": [
    "fig,(ax1,ax2) = plt.subplots(2, sharex=True, sharey=True)\n",
    "for m in modelnames_short:\n",
    "    ax1.plot(dmean_glo_early[m], color='Green', alpha=0.5)\n",
    "    ax1.plot(dmean_py_early[m], color='Purple', alpha=0.5)\n",
    "    ax1.plot(dmean_og_early[m], color='Blue', alpha=0.5)\n",
    "    \n",
    "    ax2.plot(dmean_glo_late[m], color='Green', alpha=0.5)\n",
    "    ax2.plot(dmean_py_late[m], color='Purple', alpha=0.5)\n",
    "    ax2.plot(dmean_og_late[m], color='Blue', alpha=0.5)\n",
    "    \n",
    "ax1.plot(dmean_glo_early.mean(axis=1), color='Green', label='GloGEM')\n",
    "ax1.plot(dmean_py_early.mean(axis=1), color='Purple', label='PyGEM')\n",
    "ax1.plot(dmean_og_early.mean(axis=1), color='Blue', label='OGGM')\n",
    "ax1.annotate('2001-2010', xy=(10,15))\n",
    "ax1.legend(loc='upper left')\n",
    "\n",
    "ax2.plot(dmean_glo_late.mean(axis=1), color='Green')\n",
    "ax2.plot(dmean_py_late.mean(axis=1), color='Purple')\n",
    "ax2.plot(dmean_og_late.mean(axis=1), color='Blue')\n",
    "ax2.annotate('2091-2100', xy=(10,15))\n",
    "\n",
    "fig.supxlabel('Month')\n",
    "fig.supylabel('Runoff [km$^{3}$, TBC]')\n",
    "fig.suptitle('Seasonal cycle in {}, all GCMs, {}'.format(this_basin, scen))"
   ]
  },
  {
   "cell_type": "markdown",
   "id": "eba14d71-9f7f-4871-b889-d090c219174c",
   "metadata": {},
   "source": [
    "Check mid-century, at Finn's request (20 Oct 2023)."
   ]
  },
  {
   "cell_type": "code",
   "execution_count": null,
   "id": "b1e02042-2a2f-48d3-ae29-8a0727b0244c",
   "metadata": {},
   "outputs": [],
   "source": []
  },
  {
   "cell_type": "code",
   "execution_count": null,
   "id": "81394af8-13d1-42c7-9f67-0754cbb17d0c",
   "metadata": {},
   "outputs": [],
   "source": [
    "dmean_og_early = decadal_mean(multiGCM_df_og, year_lower=2000, year_upper=2011)\n",
    "dmean_py_early = decadal_mean(multiGCM_df_py, year_lower=2000, year_upper=2011)\n",
    "dmean_glo_early = decadal_mean(multiGCM_df_glo, year_lower=2000, year_upper=2011)\n",
    "\n",
    "dmean_og_mid = decadal_mean(multiGCM_df_og, year_lower=2050, year_upper=2061)\n",
    "dmean_py_mid = decadal_mean(multiGCM_df_py, year_lower=2050, year_upper=2061)\n",
    "dmean_glo_mid = decadal_mean(multiGCM_df_glo, year_lower=2050, year_upper=2061)\n",
    "\n",
    "dmean_og_late = decadal_mean(multiGCM_df_og, year_lower=2090, year_upper=2101)\n",
    "dmean_py_late = decadal_mean(multiGCM_df_py, year_lower=2090, year_upper=2101)\n",
    "dmean_glo_late = decadal_mean(multiGCM_df_glo, year_lower=2090, year_upper=2101)"
   ]
  },
  {
   "cell_type": "code",
   "execution_count": null,
   "id": "742486d5-f16e-49d3-90d7-7197728de642",
   "metadata": {},
   "outputs": [],
   "source": [
    "fig,(ax1,ax2, ax3) = plt.subplots(3, sharex=True, sharey=True)\n",
    "for m in modelnames_short:\n",
    "    ax1.plot(dmean_glo_early[m], color='Green', alpha=0.5)\n",
    "    ax1.plot(dmean_py_early[m], color='Purple', alpha=0.5)\n",
    "    ax1.plot(dmean_og_early[m], color='Blue', alpha=0.5)\n",
    "    \n",
    "    ax2.plot(dmean_glo_mid[m], color='Green', alpha=0.5)\n",
    "    ax2.plot(dmean_py_mid[m], color='Purple', alpha=0.5)\n",
    "    ax2.plot(dmean_og_mid[m], color='Blue', alpha=0.5)\n",
    "    \n",
    "    ax3.plot(dmean_glo_late[m], color='Green', alpha=0.5)\n",
    "    ax3.plot(dmean_py_late[m], color='Purple', alpha=0.5)\n",
    "    ax3.plot(dmean_og_late[m], color='Blue', alpha=0.5)\n",
    "    \n",
    "ax1.plot(dmean_glo_early.mean(axis=1), color='Green', label='GloGEM')\n",
    "ax1.plot(dmean_py_early.mean(axis=1), color='Purple', label='PyGEM')\n",
    "ax1.plot(dmean_og_early.mean(axis=1), color='Blue', label='OGGM')\n",
    "ax1.annotate('2001-2010', xy=(10,15))\n",
    "ax1.legend(loc='upper left')\n",
    "\n",
    "ax2.plot(dmean_glo_mid.mean(axis=1), color='Green')\n",
    "ax2.plot(dmean_py_mid.mean(axis=1), color='Purple')\n",
    "ax2.plot(dmean_og_mid.mean(axis=1), color='Blue')\n",
    "ax2.annotate('2051-2060', xy=(10,15))\n",
    "\n",
    "ax3.plot(dmean_glo_late.mean(axis=1), color='Green')\n",
    "ax3.plot(dmean_py_late.mean(axis=1), color='Purple')\n",
    "ax3.plot(dmean_og_late.mean(axis=1), color='Blue')\n",
    "ax3.annotate('2091-2100', xy=(10,15))\n",
    "\n",
    "fig.supxlabel('Month')\n",
    "fig.supylabel('Runoff [km$^{3}$]')\n",
    "fig.suptitle('Seasonal cycle in {}, all GCMs, {}'.format(this_basin, scen))\n",
    "fig.savefig('/Users/Lizz/Documents/Research/Runoff-intercomparison/Figures/{}-seasonal_cycle_{}-{}'.format(datetime.date.today(), this_basin, scen))"
   ]
  },
  {
   "cell_type": "markdown",
   "id": "205eca4c-1b93-45e5-b0c7-308357887115",
   "metadata": {},
   "source": [
    "## Grouped box plot\n",
    "\n",
    "Let's try a grouped box plot for each decade, just to see if we can make it?"
   ]
  },
  {
   "cell_type": "code",
   "execution_count": null,
   "id": "54d74873-6827-44c3-98dd-4be7322636ba",
   "metadata": {},
   "outputs": [],
   "source": [
    "dmean_glo_early"
   ]
  },
  {
   "cell_type": "code",
   "execution_count": null,
   "id": "f251630c-e775-4fb1-b879-ab14a8dfc91c",
   "metadata": {},
   "outputs": [],
   "source": [
    "fig, ax = plt.subplots()\n",
    "\n",
    "box =ax.boxplot(x=dmean_glo_early.T)"
   ]
  },
  {
   "cell_type": "code",
   "execution_count": null,
   "id": "03372e15-2c6d-4998-a7b4-e74fdcdac7c4",
   "metadata": {},
   "outputs": [],
   "source": [
    "monthly_glo = multiGCM_df_glo.groupby(by=[multiGCM_df_glo.index.month]).mean()\n"
   ]
  },
  {
   "cell_type": "code",
   "execution_count": null,
   "id": "a054e5a2-fa53-4e36-8bb4-13c44043b75d",
   "metadata": {},
   "outputs": [],
   "source": [
    "monthly_glo"
   ]
  },
  {
   "cell_type": "code",
   "execution_count": null,
   "id": "950a88c8-9d94-4f62-9fe5-e04e91c704ce",
   "metadata": {},
   "outputs": [],
   "source": [
    "fig,ax = plt.subplots()\n",
    "box1 = ax.boxplot(monthly_glo.T)"
   ]
  },
  {
   "cell_type": "code",
   "execution_count": null,
   "id": "273f3079-b510-4733-9e9a-6f5c9fe31ed3",
   "metadata": {},
   "outputs": [],
   "source": [
    "relative_fraction = monthly_glo / monthly_glo.max()"
   ]
  },
  {
   "cell_type": "code",
   "execution_count": null,
   "id": "0997d3de-dd7e-474a-8a52-80845c9bd180",
   "metadata": {},
   "outputs": [],
   "source": [
    "relative_fraction"
   ]
  },
  {
   "cell_type": "code",
   "execution_count": null,
   "id": "3be6cc8f-4895-4c4d-968e-532eb4f5263e",
   "metadata": {},
   "outputs": [],
   "source": [
    "fig,ax = plt.subplots()\n",
    "box1 = ax.boxplot(relative_fraction.T)"
   ]
  },
  {
   "cell_type": "code",
   "execution_count": null,
   "id": "28e1c82d-8ec9-4790-9331-0200ac3a5b94",
   "metadata": {},
   "outputs": [],
   "source": [
    "fig,ax = plt.subplots()\n",
    "\n",
    "gg = ax.boxplot((dmean_glo_early).T, patch_artist=True) ## GloGEM\n",
    "pg = ax.boxplot((dmean_py_early).T, patch_artist=True) ## PyGEM\n",
    "og = ax.boxplot((dmean_og_early).T, patch_artist=True) ## OGGM\n",
    "\n",
    "colors=['Green', 'Purple', 'Blue']\n",
    "gems = [gg, pg, og]\n",
    "for gem, c in zip(gems, colors):\n",
    "    for b in gem['boxes']:\n",
    "        b.set_facecolor(c)\n",
    "    for caps in gem['caps']:\n",
    "        caps.set_color(c)\n",
    "    for f in gem['fliers']:\n",
    "        f.set_color(c)\n"
   ]
  },
  {
   "cell_type": "markdown",
   "id": "5a860e40-48bf-48cb-90d6-f7db164f8b4d",
   "metadata": {},
   "source": [
    "This is kind of ugly and doesn't seem to show much.  Could group side by side but the cycle is still hard to read.  Dividing by the max to show the relative seasonal cycle -- how close this month's value is to the max -- produces a bit nicer plot, but still not something usable."
   ]
  },
  {
   "cell_type": "code",
   "execution_count": null,
   "id": "89246398-6df2-4abc-a674-cf99e2921120",
   "metadata": {},
   "outputs": [],
   "source": [
    "fig,ax = plt.subplots()\n",
    "\n",
    "gg = ax.boxplot((dmean_glo_early/dmean_glo_early.max()).T, patch_artist=True) ## GloGEM\n",
    "pg = ax.boxplot((dmean_py_early/dmean_py_early.max()).T, patch_artist=True) ## PyGEM\n",
    "og = ax.boxplot((dmean_og_early/dmean_og_early.max()).T, patch_artist=True) ## OGGM\n",
    "\n",
    "colors=['Green', 'Purple', 'Blue']\n",
    "gems = [gg, pg, og]\n",
    "for gem, c in zip(gems, colors):\n",
    "    for b in gem['boxes']:\n",
    "        b.set_facecolor(c)\n",
    "    for caps in gem['caps']:\n",
    "        caps.set_color(c)\n",
    "    for f in gem['fliers']:\n",
    "        f.set_color(c)\n"
   ]
  },
  {
   "cell_type": "markdown",
   "id": "d4278d01-6b64-450c-9832-95fc5dc3e8c1",
   "metadata": {},
   "source": [
    "### New grouping of late-century values"
   ]
  },
  {
   "cell_type": "code",
   "execution_count": null,
   "id": "e36c2f2d-4e61-41c6-9ee7-da063505e95a",
   "metadata": {},
   "outputs": [],
   "source": [
    "def timeslice_median(df, year_lower, year_upper):\n",
    "    months=np.arange(1,13)\n",
    "    # monthly_mean = {m: for m in months}\n",
    "    monthly_df = pd.DataFrame()\n",
    "    for m in months:\n",
    "        monthly_vals = df.loc[(df.index.month==m) \n",
    "                              & (df.index.year>year_lower)\n",
    "                              & (df.index.year<year_upper)]\n",
    "        monthly_median = monthly_vals.median(axis=0) \n",
    "        monthly_df[m] = monthly_median\n",
    "    # monthly_df.index = months\n",
    "    return monthly_df.transpose()"
   ]
  },
  {
   "cell_type": "code",
   "execution_count": null,
   "id": "60bf406c-42a6-4f96-9f8c-a950cf2aa6d5",
   "metadata": {},
   "outputs": [],
   "source": [
    "median30yr_og_late = timeslice_median(multiGCM_df_og, year_lower=2070, year_upper=2101)\n",
    "median30yr_py_late = timeslice_median(multiGCM_df_py, year_lower=2070, year_upper=2101)\n",
    "median30yr_glo_late = timeslice_median(multiGCM_df_glo, year_lower=2070, year_upper=2101)"
   ]
  },
  {
   "cell_type": "code",
   "execution_count": null,
   "id": "0b495a5a-4410-44c1-80e3-0af9bb9f4354",
   "metadata": {},
   "outputs": [],
   "source": [
    "median30yr_og_late"
   ]
  },
  {
   "cell_type": "code",
   "execution_count": null,
   "id": "1af99b0c-0f76-4a97-bb8a-d1b538c2791d",
   "metadata": {},
   "outputs": [],
   "source": [
    "fig, ax = plt.subplots()\n",
    "ax.plot((median30yr_glo_late.median(axis=1))/(median30yr_glo_late.median(axis=1).max()), color='Green', label='GloGEM')\n",
    "ax.plot((median30yr_py_late.median(axis=1))/(median30yr_py_late.median(axis=1).max()), color='Purple', label='PyGEM')\n",
    "ax.plot((median30yr_og_late.median(axis=1))/(median30yr_og_late.median(axis=1).max()), color='Blue', label='OGGM')"
   ]
  },
  {
   "cell_type": "code",
   "execution_count": null,
   "id": "e046cec8-cc5a-4a25-a375-8a340b17aef6",
   "metadata": {},
   "outputs": [],
   "source": [
    "## Try dividing by absolute max of the dataset for that month?\n",
    "monthly_max_glo = multiGCM_df_glo.groupby(by=[multiGCM_df_glo.index.month]).mean()\n",
    "monthly_max_glo"
   ]
  },
  {
   "cell_type": "code",
   "execution_count": null,
   "id": "a3da37b6-0e9f-4344-8793-1dc648799fe4",
   "metadata": {},
   "outputs": [],
   "source": [
    "fig, ax = plt.subplots()\n",
    "ax.plot((median30yr_glo_late.median(axis=1))/(monthly_max_glo.mean(axis=1)), color='Green', label='GloGEM')\n",
    "# ax.plot((median30yr_py_late.median(axis=1))/(median30yr_py_late.median(axis=1).max()), color='Purple', label='PyGEM')\n",
    "# ax.plot((median30yr_og_late.median(axis=1))/(median30yr_og_late.median(axis=1).max()), color='Blue', label='OGGM')"
   ]
  },
  {
   "cell_type": "code",
   "execution_count": null,
   "id": "fd231f7c-82ca-4805-8842-c03793b565cc",
   "metadata": {},
   "outputs": [],
   "source": [
    "monthly_max_glo.mean(axis=1)"
   ]
  },
  {
   "cell_type": "markdown",
   "id": "bce72ac1-b480-4856-8699-cf2450b3c8a2",
   "metadata": {},
   "source": [
    "## Boxplot with 30 years of data, taking multi-GCM mean first?"
   ]
  },
  {
   "cell_type": "code",
   "execution_count": null,
   "id": "0ba664bf-a1af-46ed-9c0b-e537f0a2209d",
   "metadata": {},
   "outputs": [],
   "source": [
    "multiGCM_median_glo = multiGCM_df_glo.median(axis=1)\n",
    "multiGCM_median_glo"
   ]
  },
  {
   "cell_type": "code",
   "execution_count": null,
   "id": "32adeb7a-abe8-4587-b009-34d258857f41",
   "metadata": {},
   "outputs": [],
   "source": [
    "ggvals = multiGCM_df_glo.loc[(multiGCM_df_glo.index.year>2070)\n",
    "                              & (multiGCM_df_glo.index.year<2101)]\n",
    "ggvals = ggvals.melt(ignore_index=False)"
   ]
  },
  {
   "cell_type": "code",
   "execution_count": null,
   "id": "6eeb5ee3-bb3b-43c4-8e51-6ebeb0f43c91",
   "metadata": {},
   "outputs": [],
   "source": [
    "ggvals['month'] = ggvals.index.month\n",
    "ggvals"
   ]
  },
  {
   "cell_type": "code",
   "execution_count": null,
   "id": "9bef53ff-5f9c-4829-9a83-386dfde0d64d",
   "metadata": {},
   "outputs": [],
   "source": [
    "ggvals.boxplot(by='month')"
   ]
  },
  {
   "cell_type": "code",
   "execution_count": null,
   "id": "fb5ada0f-fa1b-4beb-9321-a7b85863793f",
   "metadata": {},
   "outputs": [],
   "source": [
    "fig, ax = plt.subplots()\n",
    "bp = ggvals.boxplot(by='month', ax=ax)\n",
    "ax.set(title='Monthly runoff {}'.format(this_basin))"
   ]
  },
  {
   "cell_type": "markdown",
   "id": "a7514e94-8787-4a96-8a4b-04391799256d",
   "metadata": {},
   "source": [
    "Okay...having used \"melt\" to put all the values from the different GCMs in line, we can get this to show up with a late-century plot of the seasonal cycle.  I still do not think this looks cleaner than the single line, and we still can't control it using any other boxplot method (must be df.boxplot, not df.plot.box or plt.boxplot(df))."
   ]
  },
  {
   "cell_type": "markdown",
   "id": "807548d8-1342-45c8-9a40-fac582232788",
   "metadata": {},
   "source": [
    "## Back to normalized lines"
   ]
  },
  {
   "cell_type": "code",
   "execution_count": null,
   "id": "9a799020-2f0a-432b-95a1-49ee0d7d7a71",
   "metadata": {},
   "outputs": [],
   "source": [
    "late_C_gg = multiGCM_df_glo.loc[(multiGCM_df_glo.index.year>2070)\n",
    "                              & (multiGCM_df_glo.index.year<2101)]\n",
    "\n",
    "late_C_gg_monthmeans = late_C_gg.groupby(by=[late_C_gg.index.month]).mean()\n",
    "late_C_gg_monthmeans/late_C_gg_monthmeans.max()"
   ]
  },
  {
   "cell_type": "code",
   "execution_count": null,
   "id": "d4d67033-1600-454d-8095-e8e7dd0ac91e",
   "metadata": {},
   "outputs": [],
   "source": [
    "fig, ax = plt.subplots()\n",
    "ax.plot((late_C_gg_monthmeans/late_C_gg_monthmeans.max()).mean(axis=1), color='Green', label='GloGEM')\n",
    "# # ax.plot((median30yr_py_late.median(axis=1))/(median30yr_py_late.median(axis=1).max()), color='Purple', label='PyGEM')\n",
    "# # ax.plot((median30yr_og_late.median(axis=1))/(median30yr_og_late.median(axis=1).max()), color='Blue', label='OGGM')"
   ]
  },
  {
   "cell_type": "markdown",
   "id": "a08f0338-648c-442b-b261-a87da62463ff",
   "metadata": {},
   "source": [
    "Try and show for all 3 GEMs.  Sigh..."
   ]
  },
  {
   "cell_type": "code",
   "execution_count": null,
   "id": "0d696be3-4d58-4412-9637-9da9b1a3a1f6",
   "metadata": {},
   "outputs": [],
   "source": [
    "late_C_gg = multiGCM_df_glo.loc[(multiGCM_df_glo.index.year>2070)\n",
    "                              & (multiGCM_df_glo.index.year<2101)]\n",
    "late_C_gg_monthmeans = late_C_gg.groupby(by=[late_C_gg.index.month]).mean()\n",
    "\n",
    "late_C_py = multiGCM_df_py.loc[(multiGCM_df_py.index.year>2070)\n",
    "                              & (multiGCM_df_py.index.year<2101)]\n",
    "late_C_py_monthmeans = late_C_py.groupby(by=[late_C_py.index.month]).mean()\n",
    "\n",
    "late_C_og = multiGCM_df_og.loc[(multiGCM_df_og.index.year>2070)\n",
    "                              & (multiGCM_df_og.index.year<2101)]\n",
    "late_C_og_monthmeans = late_C_og.groupby(by=[late_C_og.index.month]).mean()"
   ]
  },
  {
   "cell_type": "code",
   "execution_count": null,
   "id": "f53f5093-6daf-40d7-96b6-32aa76389454",
   "metadata": {},
   "outputs": [],
   "source": [
    "fig, ax = plt.subplots()\n",
    "ax.plot((late_C_gg_monthmeans/late_C_gg_monthmeans.max()).mean(axis=1), color='Green', label='GloGEM')\n",
    "ax.plot((late_C_py_monthmeans/late_C_py_monthmeans.max()).mean(axis=1), color='Purple', label='PyGEM')\n",
    "ax.plot((late_C_og_monthmeans/late_C_og_monthmeans.max()).mean(axis=1), color='Blue', label='OGGM')\n",
    "\n",
    "ax.set(title='Seasonal cycle {}, 2070-2100'.format(this_basin),\n",
    "       xlabel='Month',\n",
    "       ylabel='Fraction of max monthly runoff')"
   ]
  },
  {
   "cell_type": "code",
   "execution_count": null,
   "id": "96c51ba4-b26e-4bb2-8012-b70da973a5a8",
   "metadata": {},
   "outputs": [],
   "source": [
    "## version showing all GCMs -- less readable\n",
    "\n",
    "fig, ax = plt.subplots()\n",
    "ax.plot((late_C_gg_monthmeans/late_C_gg_monthmeans.max()), color='Green', label='GloGEM')\n",
    "ax.plot((late_C_py_monthmeans/late_C_py_monthmeans.max()), color='Purple', label='PyGEM')\n",
    "ax.plot((late_C_og_monthmeans/late_C_og_monthmeans.max()), color='Blue', label='OGGM')\n",
    "\n",
    "ax.set(title='Seasonal cycle {}, 2070-2100'.format(this_basin),\n",
    "       xlabel='Month',\n",
    "       ylabel='Fraction of max monthly runoff')"
   ]
  },
  {
   "cell_type": "code",
   "execution_count": null,
   "id": "23e0894e-f240-4e69-b434-f5334ddc4f13",
   "metadata": {},
   "outputs": [],
   "source": []
  }
 ],
 "metadata": {
  "kernelspec": {
   "display_name": "Python 3 (ipykernel)",
   "language": "python",
   "name": "python3"
  },
  "language_info": {
   "codemirror_mode": {
    "name": "ipython",
    "version": 3
   },
   "file_extension": ".py",
   "mimetype": "text/x-python",
   "name": "python",
   "nbconvert_exporter": "python",
   "pygments_lexer": "ipython3",
   "version": "3.10.9"
  }
 },
 "nbformat": 4,
 "nbformat_minor": 5
}
