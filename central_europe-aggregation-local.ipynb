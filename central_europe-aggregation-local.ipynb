{
 "cells": [
  {
   "cell_type": "markdown",
   "id": "0c323eab-d2c3-4014-8323-aea27995db91",
   "metadata": {},
   "source": [
    "# Aggregating runoff from multiple glaciers\n",
    "\n",
    "\n",
    "To compare runoff projections at basin scale, we need to aggregate the model output over all glaciers that fall within a given basin.  We will do this for the Rhine basin to provide a local example at the Alpine Glaciology Meeting.\n",
    "\n",
    "20 Jan 2023 | EHU\n",
    "\n",
    "Edit 24 Jan: Run locally on Macbook Air; load in Huss-pocessed data\n",
    "\n",
    "Edit 5 Feb: Go back to original GloGEM data for single-GCM-forced"
   ]
  },
  {
   "cell_type": "code",
   "execution_count": null,
   "id": "19d1aec9-49fa-4f71-a94b-57e88373657a",
   "metadata": {},
   "outputs": [],
   "source": [
    "import xarray as xr\n",
    "import pandas as pd\n",
    "import numpy as np\n",
    "import matplotlib.pyplot as plt\n",
    "from matplotlib import cm\n",
    "from cycler import cycler\n",
    "import datetime "
   ]
  },
  {
   "cell_type": "markdown",
   "id": "4b0eac87-4778-4d7d-a572-4be1639b2502",
   "metadata": {},
   "source": [
    "### Define the case we'll study\n",
    "We will need to make some consistent selections below: which basin, which SSP, which GCM to compare the two glacier models' output."
   ]
  },
  {
   "cell_type": "code",
   "execution_count": null,
   "id": "4d74bd01-6292-43f7-93e6-e109ade31e3e",
   "metadata": {},
   "outputs": [],
   "source": [
    "alpine_basins = {'RHINE': '6242',\n",
    "                 'RHONE': '6243',\n",
    "                 'PO': '6241'} ## GRDC Major River Basin identifiers for the 3 alpine basins we can study\n",
    "\n",
    "test_basin = alpine_basins['RHONE'] \n",
    "\n",
    "all_ssps = ['ssp119', 'ssp126', 'ssp245', 'ssp370', 'ssp585']\n",
    "which_ssp = all_ssps[1]   #specifying the SSP\n",
    "\n",
    "#All of the climate models used in GloGEM\n",
    "modelnames = ['BCC-CSM2-MR','CAMS-CSM1-0','CESM2','CESM2-WACCM','EC-Earth3','EC-Earth3-Veg','FGOALS-f3-L','GFDL-ESM4',\n",
    "              'INM-CM4-8','INM-CM5-0','MPI-ESM1-2-HR','MRI-ESM2-0']\n",
    "which_model = modelnames[0] ## specify one model (for GloGEM format)\n",
    "\n",
    "# PyGEM has 12 GCM forcings as well; TODO: confirm they are in the same order as above.  Until then, use BCC-CSM2-MR\n",
    "which_gcm = 1 ## applies to PyGEM"
   ]
  },
  {
   "cell_type": "code",
   "execution_count": null,
   "id": "6c667ccd-1a5f-4142-bcdd-7b8a1198ab5a",
   "metadata": {},
   "outputs": [],
   "source": [
    "## define local file paths\n",
    "fstem_pygem = '/Volumes/GoogleDrive/My Drive/Runoff-intercomparison/PyGEM/11/R11_runoff_monthly_c2_ba1_1set_2000_2100-{}-Batch-'.format(which_ssp)\n",
    "fpath_glogem = '/Volumes/GoogleDrive/My Drive/Runoff-intercomparison/GloGEM-output/RGI11-CentralEurope/files/'  \n",
    "fpath_glogem_huss = '/Volumes/GoogleDrive/My Drive/Runoff-intercomparison/GloGEM-output/'\n",
    "fpath_oggm = '/Volumes/GoogleDrive/My Drive/Runoff-intercomparison/OGGM/{}/'.format(test_basin)"
   ]
  },
  {
   "cell_type": "markdown",
   "id": "430456db-e319-49ad-8399-cb674c7b833a",
   "metadata": {},
   "source": [
    "### Read in list of glaciers in our basin of interest\n",
    "Erik Holmgren provided a list of glaciers (by RGI ID) in each major river basin, stored as a JSON file.  Use the function he defined in gha.utils to reference that list and select all the IDs that fall within an example basin."
   ]
  },
  {
   "cell_type": "code",
   "execution_count": null,
   "id": "1d584471-7d43-47b4-9209-1623a9378628",
   "metadata": {},
   "outputs": [],
   "source": [
    "import json\n",
    "\n",
    "def select_glaciers_json(basin='all'):\n",
    "    '''\n",
    "    Select glaciers within a basin by MRBID from a json-file,\n",
    "    which is stored in the data directory.\n",
    "\n",
    "    Args:\n",
    "    -----\n",
    "    basin: str\n",
    "        String of MRBID or 'all'.\n",
    "\n",
    "    Returns:\n",
    "    --------\n",
    "    If basin is 'all' a list of all relevant glaciers is returned, for\n",
    "    initiating glacier simulations. If basin is a MRBID the list of glaciers\n",
    "    within that basin is returned.\n",
    "    \n",
    "    Copy of a function written by Erik Holmgren (2022) in holmgren_gha.utils\n",
    "    '''\n",
    "\n",
    "    # fpath = './data/rgi_ids_per_basin.json'\n",
    "    fpath = '/Users/lizz/Documents/Research/Runoff-intercomparison/msc_thesis-multi_gcm/code/data/rgi_ids_per_basin.json' ## correct for local run\n",
    "    with open(fpath) as f:\n",
    "        basin_dict = json.load(f)\n",
    "\n",
    "    if basin.lower() != 'all':\n",
    "        glacier_list = basin_dict[basin]\n",
    "    else:\n",
    "        glacier_list = list(itertools.chain.from_iterable(basin_dict.values()))\n",
    "\n",
    "    return glacier_list"
   ]
  },
  {
   "cell_type": "code",
   "execution_count": null,
   "id": "58e25d77-4c2b-47f3-8ec5-5f341be9c889",
   "metadata": {},
   "outputs": [],
   "source": [
    "gl = select_glaciers_json(test_basin)"
   ]
  },
  {
   "cell_type": "markdown",
   "id": "804432df-1a8d-461d-b867-762d9e92503b",
   "metadata": {},
   "source": [
    "## Loop over multiple PyGEM batch files to capture all glaciers of interest"
   ]
  },
  {
   "cell_type": "code",
   "execution_count": null,
   "id": "e6ea1db0-d108-4727-b805-a2c6355656fd",
   "metadata": {},
   "outputs": [],
   "source": [
    "## use which_ssp defined above for consistency\n",
    "# fstem_pygem = '/home/ulteelab/Documents/SG/11/R11_runoff_monthly_c2_ba1_1set_2000_2100-{}-Batch-'.format(which_ssp)\n",
    "batches = ['1-1000.nc', '1001-2000.nc', '2001-3000.nc', '3001-4000.nc']\n",
    "\n",
    "## loop over them all, drop the irrelevant IDs, and concatenate the result\n",
    "ds_list = []\n",
    "for b in batches:\n",
    "    ds_temp = xr.open_dataset(fstem_pygem+b)\n",
    "    try:\n",
    "        ds_list.append(ds_temp.where(ds_temp.RGIId.isin(gl), drop=True))\n",
    "    except ValueError: ## happens if there are no glaciers from this batch in the selected region\n",
    "        continue\n",
    "rhine_ds = xr.concat(ds_list, dim='glacier')"
   ]
  },
  {
   "cell_type": "code",
   "execution_count": null,
   "id": "cc5d9430-471b-462f-be8b-6a9a7fac96b3",
   "metadata": {},
   "outputs": [],
   "source": [
    "len(gl)"
   ]
  },
  {
   "cell_type": "code",
   "execution_count": null,
   "id": "1e976070-de05-428a-ab88-82b9a4f9b9eb",
   "metadata": {},
   "outputs": [],
   "source": [
    "single_model_runoff = rhine_ds.glac_runoff_monthly.sel(model=which_gcm).resample(time='A').sum()"
   ]
  },
  {
   "cell_type": "code",
   "execution_count": null,
   "id": "e7a615dd-294c-41e7-96f7-c192260abf01",
   "metadata": {},
   "outputs": [],
   "source": [
    "single_model_runoff.sum(dim='glacier').plot()"
   ]
  },
  {
   "cell_type": "code",
   "execution_count": null,
   "id": "28dff6c3-c909-4494-8b27-ca71a335d75d",
   "metadata": {},
   "outputs": [],
   "source": [
    "scaled_runoff = 1E-9 * single_model_runoff.sum(dim='glacier') ## convert from m3 to km3 (equivalent to Gt water)\n",
    "\n",
    "fig, ax = plt.subplots()\n",
    "scaled_runoff.plot()\n",
    "ax.set(ylabel='Annual runoff [Gt water]', \n",
    "       title='Rhone runoff, PyGEM forced by {}, {}'.format(scaled_runoff.Climate_Model.values, which_ssp)\n",
    "      )"
   ]
  },
  {
   "cell_type": "markdown",
   "id": "52b40f5d-fb4f-4ca4-9bbb-e95b2be1b591",
   "metadata": {},
   "source": [
    "## Read and process GloGEM output"
   ]
  },
  {
   "cell_type": "code",
   "execution_count": null,
   "id": "6066a0b0-bf02-499f-90ea-219fb8af7b4e",
   "metadata": {},
   "outputs": [],
   "source": [
    "## GloGEM -- based on Finn Wimberly script\n",
    "\n",
    "## Generic filepath to the main data folder\n",
    "# fpath_glogem = '/home/ulteelab/Documents/Finn/CentralEurope/files/'  \n",
    "\n",
    "#Read discharge (monthly, starting Oct '79 for 1980 hydro year) to a pandas dataframe\n",
    "dfdischarge1 = pd.read_csv(fpath_glogem +'{}/{}/centraleurope_Discharge_gl_r1.dat'.format(which_model, which_ssp), sep='\\s+', header=None, skiprows=1, index_col=0)\n",
    "#Read glacier area (annual) to a pandas dataframe\n",
    "dfarea2 = pd.read_csv(fpath_glogem+'{}/{}/centraleurope_Area_r1.dat'.format(which_model, which_ssp), sep='\\s+', index_col=\"ID\")\n",
    "dfarea2.columns = pd.to_datetime(dfarea2.columns)"
   ]
  },
  {
   "cell_type": "code",
   "execution_count": null,
   "id": "1686623e-2f6b-43b3-b0a5-427bd75199d0",
   "metadata": {},
   "outputs": [],
   "source": [
    "#Reindexing discharge columns w/ year-month format\n",
    "new_dischargeindices=[]\n",
    "for y in range(1980,2101):\n",
    "    for m in range (1,13):\n",
    "        this_index = '{}-{}'.format(y,m)\n",
    "        new_dischargeindices.append(this_index)\n",
    "dfdischarge1.columns = pd.to_datetime(new_dischargeindices)\n",
    "\n",
    "#manually expand area dataset to give year-month dimension\n",
    "## Note: pandas resample('M').ffill() will work to create the dataframe, but then the product runoff = area*discharge is full of NaNs\n",
    "dfarea1 = dfarea2[dfarea2.columns.repeat(12)]\n",
    "#and reindexing the area df with year-month format\n",
    "new_areaindices=[]\n",
    "for y in range(1980,2101):\n",
    "    for m in range (1,13):\n",
    "        this_index = '{}-{}'.format(y,m)\n",
    "        new_areaindices.append(this_index)\n",
    "dfarea1.columns = pd.to_datetime(new_areaindices)"
   ]
  },
  {
   "cell_type": "markdown",
   "id": "dc867288-3c28-40f3-904b-058de3753311",
   "metadata": {},
   "source": [
    "### Examine the GloGEM data"
   ]
  },
  {
   "cell_type": "code",
   "execution_count": null,
   "id": "30794086-723d-4b33-8017-24241215ba92",
   "metadata": {},
   "outputs": [],
   "source": [
    "dfrunoff = dfarea1 * dfdischarge1\n",
    "# dfrunoff.columns = dfrunoff.transpose().index.shift(periods=-3, freq='MS') ## shift times to align with hydro year\n",
    "## DON'T SHIFT when using annual resampling -- return to this later for seasonal analysis\n",
    "dfrunoff"
   ]
  },
  {
   "cell_type": "code",
   "execution_count": null,
   "id": "81411bd6-ee17-4ac7-91cf-717685739596",
   "metadata": {},
   "outputs": [],
   "source": [
    "## annual sum\n",
    "annual_runoff = dfrunoff.transpose().resample('AS').sum() ## have to take transpose to resample\n",
    "annual_runoff"
   ]
  },
  {
   "cell_type": "code",
   "execution_count": null,
   "id": "1b0c832e-7baa-4c01-8065-f114d4b9b3d0",
   "metadata": {},
   "outputs": [],
   "source": [
    "region_total = annual_runoff.transpose().sum()\n",
    "region_total"
   ]
  },
  {
   "cell_type": "code",
   "execution_count": null,
   "id": "dfba827d-aaec-4e85-9884-4a53ed432ed0",
   "metadata": {},
   "outputs": [],
   "source": [
    "region_total.plot() ## all the runoff from RGI 11 for this SSP and GCM"
   ]
  },
  {
   "cell_type": "markdown",
   "id": "d7a536ad-c9a4-4dd9-9095-5a36f957c803",
   "metadata": {},
   "source": [
    "### Composite to example basin\n",
    "GloGEM output is stored differently from PyGEM output, so this selection will be different.  We still want to use the list of RGI IDs `gl` defined above."
   ]
  },
  {
   "cell_type": "markdown",
   "id": "128572a9-dd33-4d89-a70c-fdb262ea3f77",
   "metadata": {},
   "source": [
    "Set up a new list, trimming the full RGI ID to only the integer values included in GloGEM index:"
   ]
  },
  {
   "cell_type": "code",
   "execution_count": null,
   "id": "6294aceb-fe0c-40e2-9d3b-9df55a84076b",
   "metadata": {},
   "outputs": [],
   "source": [
    "# RGI_stem ='RGI60-11.00000'\n",
    "\n",
    "new_list = [int(s.replace('RGI60-11.0', '')) for s in gl] ## trim leading characters to search this df"
   ]
  },
  {
   "cell_type": "code",
   "execution_count": null,
   "id": "8c99cc15-5b6f-4cb4-96f6-afd39a0c292c",
   "metadata": {},
   "outputs": [],
   "source": [
    "rhine_glogem = dfrunoff.iloc[new_list] ## select the rows with IDs found in the list\n",
    "\n",
    "annual_rhine = rhine_glogem.transpose().resample('A').sum() ## annual total runoff per glacier"
   ]
  },
  {
   "cell_type": "code",
   "execution_count": null,
   "id": "5295f06b-dc1d-4c27-88bd-20b96f0671b7",
   "metadata": {},
   "outputs": [],
   "source": [
    "annual_rhine.transpose().sum().plot() ## sum annual values over all glaciers"
   ]
  },
  {
   "cell_type": "code",
   "execution_count": null,
   "id": "20061dd5-6b1b-4d8c-9ff8-65ea20175337",
   "metadata": {},
   "outputs": [],
   "source": [
    "arp = 1e-3 * annual_rhine.transpose().sum() ## re-scale for a conversion issue (m * km2 -> km3)"
   ]
  },
  {
   "cell_type": "code",
   "execution_count": null,
   "id": "e6355922-27dd-4e73-9d86-abbe4622003a",
   "metadata": {},
   "outputs": [],
   "source": [
    "fig, ax = plt.subplots()\n",
    "arp.plot(ax=ax)\n",
    "ax.set(xlabel = 'Year', ylabel='Annual runoff [Gt water]',\n",
    "      xlim=(datetime.date(2000,1,1), datetime.date(2101,1,1))) ## visualize runoff to the example basin from GloGEM"
   ]
  },
  {
   "cell_type": "markdown",
   "id": "1d639c01-25d5-47dc-9344-773e94484b0e",
   "metadata": {},
   "source": [
    "## Plot them together"
   ]
  },
  {
   "cell_type": "code",
   "execution_count": null,
   "id": "f2b5a444-cb7b-417e-adf7-5bfda5721f1f",
   "metadata": {},
   "outputs": [],
   "source": [
    "fig, (ax1,ax2) = plt.subplots(1,2, sharey=True)\n",
    "arp.plot(ax=ax1, label='GloGEM')\n",
    "scaled_runoff.plot(ax=ax2, label='PyGEM')\n",
    "ax1.set(xlabel = 'Year', ylabel='Annual runoff [Gt water]',\n",
    "      xlim=(datetime.date(2000,1,1), datetime.date(2101,1,1)),\n",
    "        title='GloGEM'\n",
    "       )\n",
    "ax2.set(xlabel = 'Year', ylabel='Annual runoff [Gt water]',\n",
    "      xlim=(datetime.date(2000,1,1), datetime.date(2101,1,1)),\n",
    "      title='PyGEM'\n",
    "       )\n",
    "fig.suptitle('Rhine runoff forced by {}, {}'.format(scaled_runoff.Climate_Model.values, which_ssp))"
   ]
  },
  {
   "cell_type": "markdown",
   "id": "bc1a6d48-4c5a-4aa6-89a5-29483e34caae",
   "metadata": {},
   "source": [
    "## Read Huss-aggregated data\n",
    "Possible problem in aggregating the GloGEM output above?  Matthias Huss provided an aggregated dataset to test instead.  Read this in and plot it."
   ]
  },
  {
   "cell_type": "code",
   "execution_count": null,
   "id": "dcdc72cd-3579-41cf-a4f0-267c4cfa2b30",
   "metadata": {},
   "outputs": [],
   "source": [
    "df_disc_huss = pd.read_csv(fpath_glogem_huss +'Discharge-20230124/{}/RGIreg11_Discharge_individual.dat'.format(which_ssp), \n",
    "                           sep='\\s+', header=0, skiprows=1, index_col=0)\n",
    "df_disc_huss.columns = pd.to_datetime(df_disc_huss.columns)\n",
    "\n",
    "#Read glacier area (INITIAL) to a pandas dataframe\n",
    "df_area_huss = pd.read_csv(fpath_glogem_huss+'/Area-20230124/{}/RGIreg11_Area_individual.dat'.format(which_ssp), \n",
    "                           sep='\\s+', header=0, skiprows=1, index_col=0)\n",
    "df_area_huss.columns = pd.to_datetime(df_area_huss.columns)\n",
    "df_area_init = df_area_huss.loc[:,'1980-01-01'] ## select just the initial area to compute basin runoff"
   ]
  },
  {
   "cell_type": "code",
   "execution_count": null,
   "id": "38eed801-543e-496f-a7ea-f7d79c39579c",
   "metadata": {},
   "outputs": [],
   "source": [
    "df_disc_huss"
   ]
  },
  {
   "cell_type": "code",
   "execution_count": null,
   "id": "51c14671-10c6-46bb-926f-8c8a95800aaf",
   "metadata": {},
   "outputs": [],
   "source": [
    "\n",
    "df_area_init"
   ]
  },
  {
   "cell_type": "code",
   "execution_count": null,
   "id": "8861e394-2764-4b96-87ae-ef26f625e2a0",
   "metadata": {
    "tags": []
   },
   "outputs": [],
   "source": [
    "new_list = [float(s.replace('RGI60-', '')) for s in gl] ## trim leading characters to search this df\n",
    "\n",
    "rhine_glogem_huss = df_disc_huss.loc[new_list] ## select the rows with IDs found in the list\n",
    "## allowing pandas to use the RGI IDs as a float for now...TODO - confirm this will work okay\n",
    "\n",
    "annual_rhine = rhine_glogem_huss.transpose().resample('AS').sum() ## annual total discharge per glacier\n",
    "annual_rhine"
   ]
  },
  {
   "cell_type": "code",
   "execution_count": null,
   "id": "59538cb9-5e29-4bab-b56e-603284691fe9",
   "metadata": {},
   "outputs": [],
   "source": [
    "annual_rhine.mul(df_area_init, axis=1)"
   ]
  },
  {
   "cell_type": "code",
   "execution_count": null,
   "id": "9838b89e-ba33-4c96-bf7d-1de6eb41959c",
   "metadata": {},
   "outputs": [],
   "source": [
    "annual_rhine[11.00330] * df_area_init[11.00330]"
   ]
  },
  {
   "cell_type": "code",
   "execution_count": null,
   "id": "63d17ba5-c177-43f6-b53b-89cadd08965f",
   "metadata": {},
   "outputs": [],
   "source": [
    "df_area_init[11.00330]"
   ]
  },
  {
   "cell_type": "code",
   "execution_count": null,
   "id": "18e1d8bc-a5b4-420b-a8e0-917acfa7d039",
   "metadata": {},
   "outputs": [],
   "source": [
    "df_area_rhine = df_area_init.loc[new_list]"
   ]
  },
  {
   "cell_type": "code",
   "execution_count": null,
   "id": "464bbb91-f8cf-4644-821f-bf03052236ba",
   "metadata": {},
   "outputs": [],
   "source": [
    "rhine_runoff = annual_rhine.mul(df_area_rhine, axis=1)"
   ]
  },
  {
   "cell_type": "code",
   "execution_count": null,
   "id": "2c2ffd11-0754-465c-87a6-fb7cf300a8ba",
   "metadata": {},
   "outputs": [],
   "source": [
    "rhine_runoff_total_gt = 1e-3 * rhine_runoff.sum(axis=1)[:-1]"
   ]
  },
  {
   "cell_type": "code",
   "execution_count": null,
   "id": "438cc5af-4e62-4c90-9649-38cb0323989d",
   "metadata": {},
   "outputs": [],
   "source": [
    "fig, ax = plt.subplots()\n",
    "rhine_runoff_total_gt.plot(ax=ax)\n",
    "ax.set(xlabel = 'Year', ylabel='Annual runoff [Gt water]',\n",
    "      xlim=(datetime.date(2000,1,1), datetime.date(2101,1,1))) ## visualize runoff to the example basin from GloGEM"
   ]
  },
  {
   "cell_type": "markdown",
   "id": "0089508b-f4fc-47f6-8f57-545ba0823cd1",
   "metadata": {},
   "source": [
    "Plot this side by side with PyGEM:"
   ]
  },
  {
   "cell_type": "code",
   "execution_count": null,
   "id": "a7676fb6-4427-4aed-bb52-622639b5eb67",
   "metadata": {},
   "outputs": [],
   "source": [
    "fig, (ax1,ax2) = plt.subplots(1,2, sharey=True)\n",
    "rhine_runoff_total_gt.plot(ax=ax1, label='GloGEM')\n",
    "scaled_runoff.plot(ax=ax2, label='PyGEM')\n",
    "ax1.set(xlabel = 'Year', ylabel='Annual runoff [Gt water]',\n",
    "      xlim=(datetime.date(2000,1,1), datetime.date(2101,1,1)),\n",
    "        title='GloGEM'\n",
    "       )\n",
    "ax2.set(xlabel = 'Year', ylabel='Annual runoff [Gt water]',\n",
    "      xlim=(datetime.date(2000,1,1), datetime.date(2101,1,1)),\n",
    "      title='PyGEM'\n",
    "       )\n",
    "fig.suptitle('Rhine runoff forced by {}, {} \\n {}'.format(\n",
    "    scaled_runoff.Climate_Model.values, which_ssp, datetime.date.today()))"
   ]
  },
  {
   "cell_type": "markdown",
   "id": "f0071082-11de-4afb-89fb-8abe7d601938",
   "metadata": {},
   "source": [
    "### Add OGGM output\n",
    "Pull in data from Erik Holmgren's simulations to compare.\n"
   ]
  },
  {
   "cell_type": "code",
   "execution_count": null,
   "id": "3a033d71-d246-4001-8353-667265e650c4",
   "metadata": {},
   "outputs": [],
   "source": [
    "fname = fpath_oggm + 'oggm_compiled_{}_{}_{}.nc'.format(test_basin, which_model, which_ssp)"
   ]
  },
  {
   "cell_type": "code",
   "execution_count": null,
   "id": "49e86ac7-7ca6-4bcb-9014-f92672f9d57c",
   "metadata": {},
   "outputs": [],
   "source": [
    "ds_og = xr.open_dataset(fname, engine='h5netcdf')"
   ]
  },
  {
   "cell_type": "code",
   "execution_count": null,
   "id": "1245059f-c730-47e2-940e-ed11c0605075",
   "metadata": {},
   "outputs": [],
   "source": [
    "total_runoff_disagg = ds_og.melt_off_glacier + ds_og.melt_on_glacier + ds_og.liq_prcp_off_glacier + ds_og.liq_prcp_on_glacier\n",
    "total_runoff = 1e-12 * total_runoff_disagg.sum(dim='rgi_id')[:-1] ## numbers are in kg, so multiply by 1e-12 to get Gt"
   ]
  },
  {
   "cell_type": "code",
   "execution_count": null,
   "id": "43592910-f247-48db-9250-2612c975626f",
   "metadata": {},
   "outputs": [],
   "source": [
    "fig, ax = plt.subplots()\n",
    "total_runoff.plot()\n",
    "ax.set(ylabel='Annual runoff [Gt]', xlabel='Year',\n",
    "      title='Rhine basin runoff simulated with OGGM, forced by {}, {} \\n {}'.format(\n",
    "      which_model, which_ssp, datetime.date.today()))"
   ]
  },
  {
   "cell_type": "markdown",
   "id": "d3022940-04a8-4a0c-bdb9-afb4ab1ce7a8",
   "metadata": {},
   "source": [
    "Plot all three models side by side:"
   ]
  },
  {
   "cell_type": "code",
   "execution_count": null,
   "id": "c1194a09-f519-4f7d-8454-aa15df6e8462",
   "metadata": {},
   "outputs": [],
   "source": [
    "t = pd.to_datetime(ds_og.indexes['time'].values, format='%Y') ## modify the OGGM indices to make plot behave"
   ]
  },
  {
   "cell_type": "code",
   "execution_count": null,
   "id": "6a201be5-c166-4d82-b311-69f564a87696",
   "metadata": {},
   "outputs": [],
   "source": [
    "fig, (ax1,ax2,ax3) = plt.subplots(1,3, sharey=True, figsize=(12,5))\n",
    "rhine_runoff_total_gt.plot(ax=ax1, label='GloGEM')\n",
    "scaled_runoff.plot(ax=ax2, label='PyGEM')\n",
    "ax3.plot(t[:-1], total_runoff, label='OGGM')\n",
    "ax1.set(xlabel = 'Year', ylabel='Annual runoff [Gt water]',\n",
    "      xlim=(datetime.date(2000,1,1), datetime.date(2101,1,1)),\n",
    "        title='GloGEM'\n",
    "       )\n",
    "ax2.set(xlabel = 'Year', ylabel='Annual runoff [Gt water]',\n",
    "      xlim=(datetime.date(2000,1,1), datetime.date(2101,1,1)),\n",
    "      title='PyGEM'\n",
    "       )\n",
    "ax3.set(xlabel = 'Year', ylabel='Annual runoff [Gt water]',\n",
    "      xlim=(datetime.date(2000,1,1), datetime.date(2101,1,1)),\n",
    "      title='OGGM'\n",
    "       )\n",
    "fig.suptitle('Rhine runoff forced by {}, {} \\n {} \\n'.format(\n",
    "    scaled_runoff.Climate_Model.values, which_ssp, datetime.date.today()))"
   ]
  },
  {
   "cell_type": "markdown",
   "id": "23be925a-11b2-4f62-ad3c-6e908be0d269",
   "metadata": {},
   "source": [
    "Running means?"
   ]
  },
  {
   "cell_type": "code",
   "execution_count": null,
   "id": "fa2b001a-6492-48fe-b4d0-dd37d986eb6d",
   "metadata": {},
   "outputs": [],
   "source": [
    "tr = total_runoff.rolling(time=30).mean()"
   ]
  },
  {
   "cell_type": "code",
   "execution_count": null,
   "id": "1d58360a-b6ed-4bb5-ace7-a9851be2289c",
   "metadata": {},
   "outputs": [],
   "source": [
    "tr.plot()"
   ]
  },
  {
   "cell_type": "code",
   "execution_count": null,
   "id": "2a5a2729-5d99-40fa-9523-5d069ce2ef6b",
   "metadata": {},
   "outputs": [],
   "source": []
  },
  {
   "cell_type": "code",
   "execution_count": null,
   "id": "011ffada-873e-4f43-ba69-3e603a7f4892",
   "metadata": {},
   "outputs": [],
   "source": [
    "rolling_yrs = 15\n",
    "\n",
    "fig, (ax1,ax2,ax3) = plt.subplots(1,3, sharey=True, figsize=(12,5))\n",
    "rhine_runoff_total_gt.rolling(window=rolling_yrs).mean().plot(ax=ax1, label='GloGEM')\n",
    "scaled_runoff.rolling(time=rolling_yrs, min_periods=10).mean().plot(ax=ax2, label='PyGEM')\n",
    "ax3.plot(t[:-1], total_runoff.rolling(time=rolling_yrs, min_periods=10).mean(), label='OGGM')\n",
    "ax1.set(xlabel = 'Year', ylabel='Annual runoff [Gt water]',\n",
    "      xlim=(datetime.date(2000,1,1), datetime.date(2101,1,1)),\n",
    "        title='GloGEM'\n",
    "       )\n",
    "ax2.set(xlabel = 'Year', ylabel='Annual runoff [Gt water]',\n",
    "      xlim=(datetime.date(2000,1,1), datetime.date(2101,1,1)),\n",
    "      title='PyGEM'\n",
    "       )\n",
    "ax3.set(xlabel = 'Year', ylabel='Annual runoff [Gt water]',\n",
    "      xlim=(datetime.date(2000,1,1), datetime.date(2101,1,1)),\n",
    "      title='OGGM'\n",
    "       )\n",
    "fig.suptitle('Rhine runoff forced by {}, {}, {} year rolling mean  \\n {} \\n'.format(\n",
    "    scaled_runoff.Climate_Model.values, which_ssp, rolling_yrs, datetime.date.today()))"
   ]
  },
  {
   "cell_type": "markdown",
   "id": "6b01c1b4-038a-426f-a512-c0cb6b0a6252",
   "metadata": {},
   "source": [
    "And rolling var:"
   ]
  },
  {
   "cell_type": "code",
   "execution_count": null,
   "id": "5de9e3c7-d1bb-49ee-aad0-d798faa9e4c1",
   "metadata": {},
   "outputs": [],
   "source": [
    "rolling_yrs = 15\n",
    "\n",
    "fig, (ax1,ax2,ax3) = plt.subplots(1,3, sharey=True, figsize=(12,5))\n",
    "rhine_runoff_total_gt.rolling(window=rolling_yrs).var().plot(ax=ax1, label='GloGEM')\n",
    "scaled_runoff.rolling(time=rolling_yrs, min_periods=10).var().plot(ax=ax2, label='PyGEM')\n",
    "ax3.plot(t[:-1], total_runoff.rolling(time=rolling_yrs, min_periods=10).var(), label='OGGM')\n",
    "ax1.set(xlabel = 'Year', ylabel='Annual runoff variance',\n",
    "      xlim=(datetime.date(2000,1,1), datetime.date(2101,1,1)),\n",
    "        title='GloGEM'\n",
    "       )\n",
    "ax2.set(xlabel = 'Year', ylabel='Annual runoff variance',\n",
    "      xlim=(datetime.date(2000,1,1), datetime.date(2101,1,1)),\n",
    "      title='PyGEM'\n",
    "       )\n",
    "ax3.set(xlabel = 'Year', ylabel='Annual runoff variance',\n",
    "      xlim=(datetime.date(2000,1,1), datetime.date(2101,1,1)),\n",
    "      title='OGGM'\n",
    "       )\n",
    "fig.suptitle('Rhine runoff variance forced by {}, {}, {} year rolling  \\n {} \\n'.format(\n",
    "    scaled_runoff.Climate_Model.values, which_ssp, rolling_yrs, datetime.date.today()))"
   ]
  },
  {
   "cell_type": "markdown",
   "id": "504269a9-a6d6-48b7-81a1-25098823ddd6",
   "metadata": {},
   "source": [
    "Plot series faintly behind the rolling mean"
   ]
  },
  {
   "cell_type": "code",
   "execution_count": null,
   "id": "d0cfb8bf-9fc6-4d48-aada-52c39953d170",
   "metadata": {},
   "outputs": [],
   "source": [
    "rolling_yrs = 15\n",
    "line_color='darkblue'\n",
    "\n",
    "fig, (ax1,ax2,ax3) = plt.subplots(1,3, sharey=True, figsize=(12,5))\n",
    "\n",
    "rhine_runoff_total_gt.plot(ax=ax1, label='GloGEM', lw=0.5, alpha=0.5, color=line_color)\n",
    "rhine_runoff_total_gt.rolling(window=rolling_yrs).mean().plot(ax=ax1, label='GloGEM rolling mean', color=line_color)\n",
    "\n",
    "scaled_runoff.plot(ax=ax2, label='PyGEM', lw=0.5, alpha=0.5, color=line_color)\n",
    "scaled_runoff.rolling(time=rolling_yrs, min_periods=10).mean().plot(ax=ax2, label='PyGEM rolling mean', color=line_color)\n",
    "\n",
    "ax3.plot(t[:-1], total_runoff, label='OGGM', lw=0.5, alpha=0.5, color=line_color)\n",
    "ax3.plot(t[:-1], total_runoff.rolling(time=rolling_yrs, min_periods=10).mean(), label='OGGM rolling mean', color=line_color)\n",
    "\n",
    "ax1.set(xlabel = 'Year', ylabel='Annual runoff [Gt water]',\n",
    "      xlim=(datetime.date(2000,1,1), datetime.date(2101,1,1)),\n",
    "        title='GloGEM'\n",
    "       )\n",
    "ax2.set(xlabel = 'Year', ylabel='Annual runoff [Gt water]',\n",
    "      xlim=(datetime.date(2000,1,1), datetime.date(2101,1,1)),\n",
    "      title='PyGEM'\n",
    "       )\n",
    "ax3.set(xlabel = 'Year', ylabel='Annual runoff [Gt water]',\n",
    "      xlim=(datetime.date(2000,1,1), datetime.date(2101,1,1)),\n",
    "      title='OGGM'\n",
    "       )\n",
    "fig.suptitle('Rhine runoff forced by {}, {} \\n {} \\n'.format(\n",
    "    scaled_runoff.Climate_Model.values, which_ssp, datetime.date.today()))"
   ]
  },
  {
   "cell_type": "code",
   "execution_count": null,
   "id": "6c312861-0aac-4f89-80bb-f82ab7a1498b",
   "metadata": {},
   "outputs": [],
   "source": []
  }
 ],
 "metadata": {
  "kernelspec": {
   "display_name": "Python 3 (ipykernel)",
   "language": "python",
   "name": "python3"
  },
  "language_info": {
   "codemirror_mode": {
    "name": "ipython",
    "version": 3
   },
   "file_extension": ".py",
   "mimetype": "text/x-python",
   "name": "python",
   "nbconvert_exporter": "python",
   "pygments_lexer": "ipython3",
   "version": "3.10.9"
  }
 },
 "nbformat": 4,
 "nbformat_minor": 5
}
