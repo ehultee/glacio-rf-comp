{
 "cells": [
  {
   "cell_type": "markdown",
   "id": "b46c9d56-a5a6-428d-a79e-43d4a89dad74",
   "metadata": {},
   "source": [
    "This notebook should plot seasonal cycle as fraction of max monthly runoff, for a given time slice and SSP, for all 75 basins.\n",
    "\n",
    "16 Mar 2024 | EHU\n",
    "\n",
    "Edits:\n",
    "- 18 Mar 2024: Replace runoff files to correct 6-month offset in Southern Hemisphere basins read in from GloGEM"
   ]
  },
  {
   "cell_type": "code",
   "execution_count": null,
   "id": "321dbf45-a616-4fa1-b92a-71f14cbd84d2",
   "metadata": {
    "tags": []
   },
   "outputs": [],
   "source": [
    "import numpy as np\n",
    "import pandas as pd\n",
    "import matplotlib.pyplot as plt\n",
    "from matplotlib import cm\n",
    "from datetime import date\n",
    "import collections\n",
    "import datetime\n",
    "import itertools\n",
    "import json\n",
    "import os\n",
    "\n",
    "\n",
    "## Generic filepath to the main data folder -- downloaded Finn's and put all together\n",
    "## no regional separation\n",
    "fpath = '/Users/lizz/Documents/Research/Runoff-intercomparison/basin_aggregated/Runoff/all_regions/'\n",
    "\n",
    "gmodels = ['GloGEM', 'PyGEM', 'OGGM']\n",
    "#All of the climate models used\n",
    "modelnames_short = ['BCC-CSM2-MR',\n",
    "                    'MPI-ESM1-2-HR',\n",
    "                    'MRI-ESM2-0',\n",
    "                    'CESM2-WACCM',\n",
    "                    'NorESM2-MM'] ## these are the ones for which we have GCM data as of Oct 2023\n",
    "\n",
    "SSPpaths = ['ssp126','ssp245','ssp370','ssp585']   #Specifiying the SSP"
   ]
  },
  {
   "cell_type": "code",
   "execution_count": null,
   "id": "e56f6600-59b8-4e15-bda0-9a03a647d7bb",
   "metadata": {},
   "outputs": [],
   "source": [
    "this_GCM = modelnames_short[0]\n",
    "this_basin = 'INDUS'\n",
    "scen=SSPpaths[1]"
   ]
  },
  {
   "cell_type": "code",
   "execution_count": null,
   "id": "398b310e-8b68-4180-ae60-741b6027e50b",
   "metadata": {},
   "outputs": [],
   "source": [
    "## Basins in the order they are written\n",
    "basins_all = {'RHINE':'6242', 'RHONE':'6243','PO':'6241', 'DANUBE':'6202', 'TITICACA':'3912', 'SANTA':'3425', \n",
    "            'OCONA':'3418', 'MAJES':'3416', 'MAGDALENA':'3227', 'AMAZON':'3203', 'YELCHO':'3429', \n",
    "            'VALDIVIA':'3428', 'SERRANO':'3426', 'RAPEL':'3423', 'PUELO':'3422', 'PASCUA':'3420', \n",
    "            'PALENA':'3419', 'HUASCO':'3412', 'COPIAPO':'3409', 'CISNES':'3408', 'BIOBIO':'3405', 'BAKER':'3404',\n",
    "            'AZOPARDO':'3403', 'AISEN':'3401', 'SANTA CRUZ':'3244', 'NEGRO':'3232', 'COLORADO':'3212', \n",
    "            'CHICO':'3209', 'TORNEALVEN':'6255', 'THJORSA':'6254', 'OLFUSA':'6237', 'LULEALVEN':'6227', \n",
    "            'KUBAN':'6223', 'KALIXALVEN':'6219', 'GLOMAA':'6213', 'DRAMSELVA':'6209', 'SVARTA':'6110', \n",
    "            'LAGARFLJOT':'6104', 'JOKULSA A FJOLLUM':'6101', 'CLUTHA':'5406', 'YUKON':'4435', 'TAKU':'4431', \n",
    "             'SUSITNA':'4430','STIKINE':'4428', 'SKEENA':'4427','SKAGIT':'4426','NUSHAGAK':'4418','NASS':'4416',\n",
    "            'KUSKOKWIM':'4414','FRASER':'4410', 'COPPER':'4408', 'COLUMBIA':'4406', 'ALSEK':'4401', 'NELSON':'4125', \n",
    "              'MACKENZIE':'4123','COLVILLE':'4110', 'YSYK-KOL':'2919', 'UVS NUUR':'2918', 'TARIM HE':'2914', \n",
    "              'TALAS':'2913', 'LAKE BALKHASH':'2910','HAR US NUUR':'2909', 'CHUY':'2905', 'ARAL SEA':'2902', \n",
    "              'YELLOW RIVER':'2434', 'MEKONG':'2421', 'KAMCHATKA':'2413', 'SALWEEN':'2319', 'IRRAWADDY':'2310', \n",
    "              'INDUS':'2309', 'GANGES':'2306','BRAHMAPUTRA':'2302', 'OB':'2108', 'INDIGIRKA':'2103','YANGTZE' : '2433'}\n",
    "\n",
    "## Make an array to guarantee the order will remain intact\n",
    "basin_names = basins_all.keys() ## keys actually remember insertion order as of Python 3.7, wow modern"
   ]
  },
  {
   "cell_type": "markdown",
   "id": "bfc7e230-8830-41a1-b20d-a4a0d00108c3",
   "metadata": {},
   "source": [
    "## Plot all 75 basins"
   ]
  },
  {
   "cell_type": "code",
   "execution_count": null,
   "id": "7cb6e8f8-9828-4754-b40b-82e5557a81d1",
   "metadata": {},
   "outputs": [],
   "source": [
    "import matplotlib.patches as mpatches\n",
    "\n",
    "\n",
    "start_year = 2000\n",
    "end_year = 2020 ## 1 after the true end, for < operator\n",
    "\n",
    "example_colors_w = {'GloGEM': 'darkgreen',\n",
    "                    'PyGEM': 'Purple',\n",
    "                    'OGGM': 'royalblue'}\n",
    "\n",
    "fig, axs = plt.subplots(15,5, figsize=(12,18), sharey=True, sharex=True)\n",
    "for i,b in enumerate(basin_names):\n",
    "    ax = axs.ravel()[i]\n",
    "    this_basin=b\n",
    "    \n",
    "    multiGCM_multiGEM_df = {g: {m: [] for m in modelnames_short} for g in gmodels}\n",
    "\n",
    "    for m in modelnames_short:\n",
    "        fname = fpath +'runoff_AlignedMonthly_{}_{}_{}.csv'.format(m, scen, this_basin)\n",
    "        temp_df = pd.read_csv(fname, index_col=0)\n",
    "        temp_df.index = pd.to_datetime(temp_df.index)\n",
    "        multiGCM_multiGEM_df['GloGEM'] = temp_df['GloGEM']\n",
    "        multiGCM_multiGEM_df['PyGEM'] = temp_df['PyGEM']\n",
    "        multiGCM_multiGEM_df['OGGM'] = temp_df['OGGM']        \n",
    "\n",
    "    \n",
    "    for g in gmodels:\n",
    "        multiGCM_df_thisGEM = pd.DataFrame.from_dict(multiGCM_multiGEM_df[g])\n",
    "        \n",
    "        late_C_thisGEM = multiGCM_df_thisGEM.loc[(multiGCM_df_thisGEM.index.year>start_year)\n",
    "                              & (multiGCM_df_thisGEM.index.year<end_year)]\n",
    "        late_C_monthmeans = late_C_thisGEM.groupby(by=[late_C_thisGEM.index.month]).mean()\n",
    "        \n",
    "        ax.plot((late_C_monthmeans/late_C_monthmeans.max()).mean(axis=1), \n",
    "                color=example_colors_w[g], label=g)\n",
    "\n",
    "    # ax.tick_params(axis='x', labelrotation=45)\n",
    "    ax.set(xticks=np.arange(1,13), xticklabels=['1','','','4','','', '7', '', '', '10', '', '12'])\n",
    "    # # ax.set_xlabel('Years', fontsize=14)\n",
    "    # # ax.set_ylabel('Rolling mean SPEI', fontsize=14)\n",
    "    ax.text(0.05, 0.85, this_basin, transform=ax.transAxes) \n",
    "    # ax.set(title='{}, 3 glacier models'.format(example_b))\n",
    "    # plt.tight_layout()\n",
    "    \n",
    "green_patch = mpatches.Patch(color=example_colors_w['GloGEM'], label='GloGEM')\n",
    "purple_patch = mpatches.Patch(color=example_colors_w['PyGEM'], label='PyGEM') \n",
    "blue_patch = mpatches.Patch(color=example_colors_w['OGGM'], label='OGGM')\n",
    "axs[0,0].legend(handles=[green_patch, purple_patch, blue_patch], bbox_to_anchor=(4.15, 1.46), ncol=3)\n",
    "\n",
    "fig.supxlabel('Month', fontsize=14)\n",
    "fig.supylabel('Fraction of max. monthly runoff', fontsize=14);\n",
    "fig.suptitle('Glacial runoff seasonality, {}-{}, {}'.format(start_year, end_year-1, scen), fontsize=14)\n",
    "plt.tight_layout()"
   ]
  },
  {
   "cell_type": "code",
   "execution_count": null,
   "id": "f2d423fa-027e-42af-b202-765f7ebc5c77",
   "metadata": {},
   "outputs": [],
   "source": []
  }
 ],
 "metadata": {
  "kernelspec": {
   "display_name": "Python 3 (ipykernel)",
   "language": "python",
   "name": "python3"
  },
  "language_info": {
   "codemirror_mode": {
    "name": "ipython",
    "version": 3
   },
   "file_extension": ".py",
   "mimetype": "text/x-python",
   "name": "python",
   "nbconvert_exporter": "python",
   "pygments_lexer": "ipython3",
   "version": "3.10.9"
  }
 },
 "nbformat": 4,
 "nbformat_minor": 5
}
