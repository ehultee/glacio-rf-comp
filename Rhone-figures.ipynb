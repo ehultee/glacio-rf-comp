{
 "cells": [
  {
   "cell_type": "markdown",
   "id": "0c323eab-d2c3-4014-8323-aea27995db91",
   "metadata": {},
   "source": [
    "# Aggregating runoff from multiple glaciers\n",
    "\n",
    "\n",
    "To compare runoff projections at basin scale, we need to aggregate the model output over all glaciers that fall within a given basin.  We will do this for the RHONE basin to provide a local example at the Alpine Glaciology Meeting.\n",
    "\n",
    "31 Jan 2023 | EHU - based on earlier central_europe-aggregation-local"
   ]
  },
  {
   "cell_type": "code",
   "execution_count": null,
   "id": "19d1aec9-49fa-4f71-a94b-57e88373657a",
   "metadata": {},
   "outputs": [],
   "source": [
    "import xarray as xr\n",
    "import pandas as pd\n",
    "import numpy as np\n",
    "import matplotlib.pyplot as plt\n",
    "from matplotlib import cm\n",
    "from cycler import cycler\n",
    "import datetime "
   ]
  },
  {
   "cell_type": "markdown",
   "id": "4b0eac87-4778-4d7d-a572-4be1639b2502",
   "metadata": {},
   "source": [
    "### Define the case we'll study\n",
    "We will need to make some consistent selections below: which basin, which SSP, which GCM to compare the two glacier models' output."
   ]
  },
  {
   "cell_type": "code",
   "execution_count": null,
   "id": "4d74bd01-6292-43f7-93e6-e109ade31e3e",
   "metadata": {},
   "outputs": [],
   "source": [
    "alpine_basins = {'RHINE': '6242',\n",
    "                 'RHONE': '6243',\n",
    "                 'PO': '6241'} ## GRDC Major River Basin identifiers for the 3 alpine basins we can study\n",
    "\n",
    "test_basin = alpine_basins['RHONE'] \n",
    "\n",
    "all_ssps = ['ssp119', 'ssp126', 'ssp245', 'ssp370', 'ssp585']\n",
    "which_ssp = all_ssps[2]   #specifying the SSP\n",
    "\n",
    "#All of the climate models used in GloGEM\n",
    "modelnames = ['BCC-CSM2-MR','CAMS-CSM1-0','CESM2','CESM2-WACCM','EC-Earth3','EC-Earth3-Veg','FGOALS-f3-L','GFDL-ESM4',\n",
    "              'INM-CM4-8','INM-CM5-0','MPI-ESM1-2-HR','MRI-ESM2-0']\n",
    "which_model = modelnames[0] ## specify one model (for GloGEM format)\n",
    "\n",
    "# PyGEM has 12 GCM forcings as well; TODO: confirm they are in the same order as above.  Until then, use BCC-CSM2-MR\n",
    "which_gcm = 1 ## applies to PyGEM"
   ]
  },
  {
   "cell_type": "code",
   "execution_count": null,
   "id": "6c667ccd-1a5f-4142-bcdd-7b8a1198ab5a",
   "metadata": {},
   "outputs": [],
   "source": [
    "## define local file paths\n",
    "fstem_pygem = '/Volumes/GoogleDrive/My Drive/Runoff-intercomparison/PyGEM/11/R11_runoff_monthly_c2_ba1_1set_2000_2100-{}-Batch-'.format(which_ssp)\n",
    "fpath_glogem = '/Volumes/GoogleDrive/My Drive/Runoff-intercomparison/GloGEM-output/RGI11-CentralEurope/files/'  \n",
    "fpath_glogem_huss = '/Volumes/GoogleDrive/My Drive/Runoff-intercomparison/GloGEM-output/'\n",
    "fpath_oggm = '/Volumes/GoogleDrive/My Drive/Runoff-intercomparison/OGGM/{}/'.format(test_basin)"
   ]
  },
  {
   "cell_type": "markdown",
   "id": "430456db-e319-49ad-8399-cb674c7b833a",
   "metadata": {},
   "source": [
    "### Read in list of glaciers in our basin of interest\n",
    "Erik Holmgren provided a list of glaciers (by RGI ID) in each major river basin, stored as a JSON file.  Use the function he defined in gha.utils to reference that list and select all the IDs that fall within an example basin."
   ]
  },
  {
   "cell_type": "code",
   "execution_count": null,
   "id": "1d584471-7d43-47b4-9209-1623a9378628",
   "metadata": {},
   "outputs": [],
   "source": [
    "import json\n",
    "\n",
    "def select_glaciers_json(basin='all'):\n",
    "    '''\n",
    "    Select glaciers within a basin by MRBID from a json-file,\n",
    "    which is stored in the data directory.\n",
    "\n",
    "    Args:\n",
    "    -----\n",
    "    basin: str\n",
    "        String of MRBID or 'all'.\n",
    "\n",
    "    Returns:\n",
    "    --------\n",
    "    If basin is 'all' a list of all relevant glaciers is returned, for\n",
    "    initiating glacier simulations. If basin is a MRBID the list of glaciers\n",
    "    within that basin is returned.\n",
    "    \n",
    "    Copy of a function written by Erik Holmgren (2022) in holmgren_gha.utils\n",
    "    '''\n",
    "\n",
    "    # fpath = './data/rgi_ids_per_basin.json'\n",
    "    fpath = '/Users/lizz/Documents/Research/Runoff-intercomparison/msc_thesis-multi_gcm/code/data/rgi_ids_per_basin.json' ## correct for local run\n",
    "    with open(fpath) as f:\n",
    "        basin_dict = json.load(f)\n",
    "\n",
    "    if basin.lower() != 'all':\n",
    "        glacier_list = basin_dict[basin]\n",
    "    else:\n",
    "        glacier_list = list(itertools.chain.from_iterable(basin_dict.values()))\n",
    "\n",
    "    return glacier_list"
   ]
  },
  {
   "cell_type": "code",
   "execution_count": null,
   "id": "58e25d77-4c2b-47f3-8ec5-5f341be9c889",
   "metadata": {},
   "outputs": [],
   "source": [
    "gl = select_glaciers_json(test_basin)"
   ]
  },
  {
   "cell_type": "markdown",
   "id": "804432df-1a8d-461d-b867-762d9e92503b",
   "metadata": {},
   "source": [
    "## Loop over multiple PyGEM batch files to capture all glaciers of interest"
   ]
  },
  {
   "cell_type": "code",
   "execution_count": null,
   "id": "fd11aeab-2604-40f6-a038-76779d988015",
   "metadata": {},
   "outputs": [],
   "source": [
    "## use which_ssp defined above for consistency\n",
    "# fstem_pygem = '/home/ulteelab/Documents/SG/11/R11_runoff_monthly_c2_ba1_1set_2000_2100-{}-Batch-'.format(which_ssp)\n",
    "batches = ['1-1000.nc', '1001-2000.nc', '2001-3000.nc', '3001-4000.nc']\n",
    "\n",
    "## loop over them all, drop the irrelevant IDs, and concatenate the result\n",
    "ds_list = []\n",
    "for b in batches:\n",
    "    ds_temp = xr.open_dataset(fstem_pygem+b)\n",
    "    try:\n",
    "        ds_list.append(ds_temp.where(ds_temp.RGIId.isin(gl), drop=True))\n",
    "    except ValueError: ## happens if there are no glaciers from this batch in the selected region\n",
    "        continue\n",
    "rhine_ds = xr.concat(ds_list, dim='glacier')"
   ]
  },
  {
   "cell_type": "code",
   "execution_count": null,
   "id": "e6ce95c6-dc59-4ab1-a504-068f6c176bf1",
   "metadata": {},
   "outputs": [],
   "source": [
    "len(gl)"
   ]
  },
  {
   "cell_type": "code",
   "execution_count": null,
   "id": "4eb184bb-3373-4a0c-85a7-14f9a0c3614c",
   "metadata": {},
   "outputs": [],
   "source": [
    "single_model_runoff = rhine_ds.glac_runoff_monthly.sel(model=which_gcm).resample(time='A').sum()"
   ]
  },
  {
   "cell_type": "code",
   "execution_count": null,
   "id": "82cfe843-fa7c-4a92-a90e-e73df2d83d4b",
   "metadata": {},
   "outputs": [],
   "source": [
    "single_model_runoff.sum(dim='glacier').plot()"
   ]
  },
  {
   "cell_type": "code",
   "execution_count": null,
   "id": "0ba79682-ffa3-4881-8893-b1f32eeb7420",
   "metadata": {},
   "outputs": [],
   "source": [
    "scaled_runoff = 1E-9 * single_model_runoff.sum(dim='glacier') ## convert from m3 to km3 (equivalent to Gt water)\n",
    "\n",
    "fig, ax = plt.subplots()\n",
    "scaled_runoff.plot()\n",
    "ax.set(ylabel='Annual runoff [Gt water]', \n",
    "       title='Rhone runoff, PyGEM forced by {}, {}'.format(scaled_runoff.Climate_Model.values, which_ssp)\n",
    "      )"
   ]
  },
  {
   "cell_type": "markdown",
   "id": "75480ab0-4c91-4f18-a525-ca89fabe5897",
   "metadata": {},
   "source": [
    "## Old GloGEM output processing to get at single GCM"
   ]
  },
  {
   "cell_type": "code",
   "execution_count": null,
   "id": "20642dcc-69d6-42ff-864b-0f3e1247674a",
   "metadata": {},
   "outputs": [],
   "source": [
    "## GloGEM -- based on Finn Wimberly script\n",
    "\n",
    "## Generic filepath to the main data folder\n",
    "# fpath_glogem = '/home/ulteelab/Documents/Finn/CentralEurope/files/'  \n",
    "\n",
    "#Read discharge (monthly, starting Oct '79 for 1980 hydro year) to a pandas dataframe\n",
    "dfdischarge1 = pd.read_csv(fpath_glogem +'{}/{}/centraleurope_Discharge_gl_r1.dat'.format(which_model, which_ssp), sep='\\s+', header=None, skiprows=1, index_col=0)\n",
    "\n",
    "#Read glacier area (INITIAL) to a pandas dataframe\n",
    "df_area_huss = pd.read_csv(fpath_glogem_huss+'/Area-20230124/{}/RGIreg11_Area_individual.dat'.format(which_ssp), \n",
    "                           sep='\\s+', header=0, skiprows=1, index_col=0)\n",
    "df_area_huss.columns = pd.to_datetime(df_area_huss.columns)\n",
    "df_area_init = df_area_huss.loc[:,'1980-01-01'] ## select just the initial area to compute basin runoff\n"
   ]
  },
  {
   "cell_type": "code",
   "execution_count": null,
   "id": "5e59d988-c3a0-4c0c-902e-519871601f72",
   "metadata": {},
   "outputs": [],
   "source": [
    "#Reindexing discharge columns w/ year-month format\n",
    "new_dischargeindices=[]\n",
    "for y in range(1980,2101):\n",
    "    for m in range (1,13):\n",
    "        this_index = '{}-{}'.format(y,m)\n",
    "        new_dischargeindices.append(this_index)\n",
    "dfdischarge1.columns = pd.to_datetime(new_dischargeindices)\n"
   ]
  },
  {
   "cell_type": "code",
   "execution_count": null,
   "id": "db7667e9-b96a-4c44-b7b2-bf5795e91d87",
   "metadata": {},
   "outputs": [],
   "source": [
    "dfrunoff = dfarea1 * dfdischarge1\n",
    "# dfrunoff.columns = dfrunoff.transpose().index.shift(periods=-3, freq='MS') ## shift times to align with hydro year\n",
    "## DON'T SHIFT when using annual resampling -- return to this later for seasonal analysis\n",
    "dfrunoff"
   ]
  },
  {
   "cell_type": "markdown",
   "id": "aa7a71dc-241b-46b7-bca7-28378b3b3481",
   "metadata": {},
   "source": [
    "### Composite to example basin\n",
    "GloGEM output is stored differently from PyGEM output, so this selection will be different.  We still want to use the list of RGI IDs `gl` defined above."
   ]
  },
  {
   "cell_type": "markdown",
   "id": "67e2c5d1-ddf7-457b-a0dc-780c66aec8fc",
   "metadata": {},
   "source": [
    "Set up a new list, trimming the full RGI ID to only the integer values included in GloGEM index:"
   ]
  },
  {
   "cell_type": "code",
   "execution_count": null,
   "id": "e3f87da7-d6b5-47b2-b507-6201bfdbae86",
   "metadata": {},
   "outputs": [],
   "source": [
    "# RGI_stem ='RGI60-11.00000'\n",
    "\n",
    "new_list = [int(s.replace('RGI60-11.0', '')) for s in gl] ## trim leading characters to search this df\n",
    "new_list_trimmed = [f for f in new_list if f in dfdischarge1.index]"
   ]
  },
  {
   "cell_type": "code",
   "execution_count": null,
   "id": "e1429b1b-a9c8-4268-aa06-a0f614540901",
   "metadata": {},
   "outputs": [],
   "source": [
    "dfglogem_masked = dfdischarge1.replace(to_replace=-99., value=None)"
   ]
  },
  {
   "cell_type": "code",
   "execution_count": null,
   "id": "da5e4bcc-f4f2-4841-b3d0-cd7c1a48fa53",
   "metadata": {},
   "outputs": [],
   "source": [
    "rhone_glogem = dfglogem_masked.loc[new_list_trimmed] ## select the rows with IDs found in the list ## select the rows with IDs found in the list\n",
    "# rhone_glogem\n",
    "annual_rhone = rhone_glogem.transpose().resample('AS').sum() ## annual total runoff per glacier"
   ]
  },
  {
   "cell_type": "code",
   "execution_count": null,
   "id": "2da5887a-7ab4-47c3-b4f2-7130b5a10f75",
   "metadata": {},
   "outputs": [],
   "source": [
    "annual_rhone.transpose().sum().plot() ## sum annual values over all glaciers"
   ]
  },
  {
   "cell_type": "code",
   "execution_count": null,
   "id": "f5fd7d1e-995b-4689-9745-30aaf991dee6",
   "metadata": {},
   "outputs": [],
   "source": [
    "area_index_list = [float(s.replace('RGI60-', '')) for s in gl\n",
    "                  if int(s.replace('RGI60-11.0', '')) in dfdischarge1.index] \n",
    "## area df and discharge df have different labelling conventions\n",
    "## trim to make sure they cover the same glaciers\n",
    "\n",
    "df_area_rhone = df_area_init.loc[area_index_list]"
   ]
  },
  {
   "cell_type": "code",
   "execution_count": null,
   "id": "1324abf3-d35d-4599-969f-48b1a9331521",
   "metadata": {},
   "outputs": [],
   "source": [
    "new_labels = [float('11.0'+str(s)) for s in annual_rhone.columns]\n",
    "new_labels\n",
    "annual_rhone.columns = new_labels ## remember that annual_rhone is transposed from the discharge"
   ]
  },
  {
   "cell_type": "code",
   "execution_count": null,
   "id": "89da8f3c-d952-4a95-aacf-10a4ed6fa4a7",
   "metadata": {
    "jupyter": {
     "source_hidden": true
    },
    "tags": []
   },
   "outputs": [],
   "source": [
    "annual_rhone"
   ]
  },
  {
   "cell_type": "code",
   "execution_count": null,
   "id": "a80241c9-5440-4efe-b8fb-e5e115e2fdf3",
   "metadata": {},
   "outputs": [],
   "source": [
    "rhone_runoff = annual_rhone.mul(df_area_rhone, axis=1)"
   ]
  },
  {
   "cell_type": "code",
   "execution_count": null,
   "id": "099b0212-d8df-439c-9225-42fc316dec54",
   "metadata": {},
   "outputs": [],
   "source": []
  },
  {
   "cell_type": "code",
   "execution_count": null,
   "id": "db2d33f4-8c8c-4b2d-936d-108d1130cb0c",
   "metadata": {},
   "outputs": [],
   "source": [
    "rhone_runoff"
   ]
  },
  {
   "cell_type": "code",
   "execution_count": null,
   "id": "126dc772-c6ea-4b29-9520-dd2ed1acf589",
   "metadata": {
    "tags": []
   },
   "outputs": [],
   "source": [
    "glogem_runoff_gt = 1e-3 * rhone_runoff.transpose().sum() ## re-scale for a conversion issue (m * km2 -> km3)"
   ]
  },
  {
   "cell_type": "code",
   "execution_count": null,
   "id": "38a278ab-62f9-4e92-aed5-984e6c5db253",
   "metadata": {},
   "outputs": [],
   "source": [
    "fig, ax = plt.subplots()\n",
    "glogem_runoff_gt.plot(ax=ax)\n",
    "ax.set(xlabel = 'Year', ylabel='Annual runoff [Gt water]',\n",
    "      xlim=(datetime.date(2000,1,1), datetime.date(2101,1,1))) ## visualize runoff to the example basin from GloGEM"
   ]
  },
  {
   "cell_type": "markdown",
   "id": "0089508b-f4fc-47f6-8f57-545ba0823cd1",
   "metadata": {},
   "source": [
    "Plot this side by side with PyGEM:"
   ]
  },
  {
   "cell_type": "code",
   "execution_count": null,
   "id": "a7676fb6-4427-4aed-bb52-622639b5eb67",
   "metadata": {
    "tags": []
   },
   "outputs": [],
   "source": [
    "fig, (ax1,ax2) = plt.subplots(1,2, sharey=True)\n",
    "glogem_runoff_gt.plot(ax=ax1, label='GloGEM')\n",
    "scaled_runoff.plot(ax=ax2, label='PyGEM')\n",
    "ax1.set(xlabel = 'Year', ylabel='Annual runoff [Gt water]',\n",
    "      xlim=(datetime.date(2000,1,1), datetime.date(2101,1,1)),\n",
    "        title='GloGEM'\n",
    "       )\n",
    "ax2.set(xlabel = 'Year', ylabel='Annual runoff [Gt water]',\n",
    "      xlim=(datetime.date(2000,1,1), datetime.date(2101,1,1)),\n",
    "      title='PyGEM'\n",
    "       )\n",
    "fig.suptitle('Rhone runoff forced by {}, {} \\n {}'.format(\n",
    "    scaled_runoff.Climate_Model.values, which_ssp, datetime.date.today()))"
   ]
  },
  {
   "cell_type": "markdown",
   "id": "f0071082-11de-4afb-89fb-8abe7d601938",
   "metadata": {},
   "source": [
    "### Add OGGM output\n",
    "Pull in data from Erik Holmgren's simulations to compare.\n"
   ]
  },
  {
   "cell_type": "code",
   "execution_count": null,
   "id": "3a033d71-d246-4001-8353-667265e650c4",
   "metadata": {},
   "outputs": [],
   "source": [
    "fname = fpath_oggm + 'oggm_compiled_{}_{}_{}.nc'.format(test_basin, which_model, which_ssp)"
   ]
  },
  {
   "cell_type": "code",
   "execution_count": null,
   "id": "49e86ac7-7ca6-4bcb-9014-f92672f9d57c",
   "metadata": {},
   "outputs": [],
   "source": [
    "ds_og = xr.open_dataset(fname, engine='h5netcdf')"
   ]
  },
  {
   "cell_type": "code",
   "execution_count": null,
   "id": "1245059f-c730-47e2-940e-ed11c0605075",
   "metadata": {},
   "outputs": [],
   "source": [
    "total_runoff_disagg = ds_og.melt_off_glacier + ds_og.melt_on_glacier + ds_og.liq_prcp_off_glacier + ds_og.liq_prcp_on_glacier\n",
    "total_runoff = 1e-12 * total_runoff_disagg.sum(dim='rgi_id')[:-1] ## numbers are in kg, so multiply by 1e-12 to get Gt"
   ]
  },
  {
   "cell_type": "code",
   "execution_count": null,
   "id": "43592910-f247-48db-9250-2612c975626f",
   "metadata": {},
   "outputs": [],
   "source": [
    "fig, ax = plt.subplots()\n",
    "total_runoff.plot()\n",
    "ax.set(ylabel='Annual runoff [Gt]', xlabel='Year',\n",
    "      title='Rhone basin runoff simulated with OGGM, forced by {}, {} \\n {}'.format(\n",
    "      which_model, which_ssp, datetime.date.today()))"
   ]
  },
  {
   "cell_type": "markdown",
   "id": "d3022940-04a8-4a0c-bdb9-afb4ab1ce7a8",
   "metadata": {},
   "source": [
    "Plot all three models side by side:"
   ]
  },
  {
   "cell_type": "code",
   "execution_count": null,
   "id": "c1194a09-f519-4f7d-8454-aa15df6e8462",
   "metadata": {},
   "outputs": [],
   "source": [
    "t = pd.to_datetime(ds_og.indexes['time'].values, format='%Y') ## modify the OGGM indices to make plot behave"
   ]
  },
  {
   "cell_type": "code",
   "execution_count": null,
   "id": "6a201be5-c166-4d82-b311-69f564a87696",
   "metadata": {},
   "outputs": [],
   "source": [
    "fig, (ax1,ax2,ax3) = plt.subplots(1,3, sharey=True, figsize=(12,5))\n",
    "glogem_runoff_gt.plot(ax=ax1, label='GloGEM')\n",
    "scaled_runoff.plot(ax=ax2, label='PyGEM')\n",
    "ax3.plot(t[:-1], total_runoff, label='OGGM')\n",
    "ax1.set(xlabel = 'Year', ylabel='Annual runoff [Gt water]',\n",
    "      xlim=(datetime.date(2000,1,1), datetime.date(2101,1,1)),\n",
    "        title='GloGEM'\n",
    "       )\n",
    "ax2.set(xlabel = 'Year', ylabel='Annual runoff [Gt water]',\n",
    "      xlim=(datetime.date(2000,1,1), datetime.date(2101,1,1)),\n",
    "      title='PyGEM'\n",
    "       )\n",
    "ax3.set(xlabel = 'Year', ylabel='Annual runoff [Gt water]',\n",
    "      xlim=(datetime.date(2000,1,1), datetime.date(2101,1,1)),\n",
    "      title='OGGM'\n",
    "       )\n",
    "fig.suptitle('Rhone runoff forced by {}, {} \\n {} \\n'.format(\n",
    "    scaled_runoff.Climate_Model.values, which_ssp, datetime.date.today()))"
   ]
  },
  {
   "cell_type": "markdown",
   "id": "23be925a-11b2-4f62-ad3c-6e908be0d269",
   "metadata": {},
   "source": [
    "Running means?"
   ]
  },
  {
   "cell_type": "code",
   "execution_count": null,
   "id": "011ffada-873e-4f43-ba69-3e603a7f4892",
   "metadata": {},
   "outputs": [],
   "source": [
    "rolling_yrs = 15\n",
    "\n",
    "fig, (ax1,ax2,ax3) = plt.subplots(1,3, sharey=True, figsize=(12,5))\n",
    "glogem_runoff_gt.rolling(window=rolling_yrs).mean().plot(ax=ax1, label='GloGEM')\n",
    "scaled_runoff.rolling(time=rolling_yrs, min_periods=10).mean().plot(ax=ax2, label='PyGEM')\n",
    "ax3.plot(t[:-1], total_runoff.rolling(time=rolling_yrs, min_periods=10).mean(), label='OGGM')\n",
    "ax1.set(xlabel = 'Year', ylabel='Annual runoff [Gt water]',\n",
    "      xlim=(datetime.date(2000,1,1), datetime.date(2101,1,1)),\n",
    "        title='GloGEM'\n",
    "       )\n",
    "ax2.set(xlabel = 'Year', ylabel='Annual runoff [Gt water]',\n",
    "      xlim=(datetime.date(2000,1,1), datetime.date(2101,1,1)),\n",
    "      title='PyGEM'\n",
    "       )\n",
    "ax3.set(xlabel = 'Year', ylabel='Annual runoff [Gt water]',\n",
    "      xlim=(datetime.date(2000,1,1), datetime.date(2101,1,1)),\n",
    "      title='OGGM'\n",
    "       )\n",
    "fig.suptitle('Rhone runoff forced by {}, {}, {} year rolling mean  \\n {} \\n'.format(\n",
    "    scaled_runoff.Climate_Model.values, which_ssp, rolling_yrs, datetime.date.today()))"
   ]
  },
  {
   "cell_type": "markdown",
   "id": "6b01c1b4-038a-426f-a512-c0cb6b0a6252",
   "metadata": {},
   "source": [
    "And rolling var:"
   ]
  },
  {
   "cell_type": "code",
   "execution_count": null,
   "id": "5de9e3c7-d1bb-49ee-aad0-d798faa9e4c1",
   "metadata": {},
   "outputs": [],
   "source": [
    "rolling_yrs = 15\n",
    "\n",
    "fig, (ax1,ax2,ax3) = plt.subplots(1,3, sharey=True, figsize=(12,5))\n",
    "glogem_runoff_gt.rolling(window=rolling_yrs).var().plot(ax=ax1, label='GloGEM')\n",
    "scaled_runoff.rolling(time=rolling_yrs, min_periods=10).var().plot(ax=ax2, label='PyGEM')\n",
    "ax3.plot(t[:-1], total_runoff.rolling(time=rolling_yrs, min_periods=10).var(), label='OGGM')\n",
    "ax1.set(xlabel = 'Year', ylabel='Annual runoff variance',\n",
    "      xlim=(datetime.date(2000,1,1), datetime.date(2101,1,1)),\n",
    "        title='GloGEM'\n",
    "       )\n",
    "ax2.set(xlabel = 'Year', ylabel='Annual runoff variance',\n",
    "      xlim=(datetime.date(2000,1,1), datetime.date(2101,1,1)),\n",
    "      title='PyGEM'\n",
    "       )\n",
    "ax3.set(xlabel = 'Year', ylabel='Annual runoff variance',\n",
    "      xlim=(datetime.date(2000,1,1), datetime.date(2101,1,1)),\n",
    "      title='OGGM'\n",
    "       )\n",
    "fig.suptitle('Rhone runoff variance forced by {}, {}, {} year rolling  \\n {} \\n'.format(\n",
    "    scaled_runoff.Climate_Model.values, which_ssp, rolling_yrs, datetime.date.today()))"
   ]
  },
  {
   "cell_type": "markdown",
   "id": "504269a9-a6d6-48b7-81a1-25098823ddd6",
   "metadata": {},
   "source": [
    "Plot series faintly behind the rolling mean"
   ]
  },
  {
   "cell_type": "code",
   "execution_count": null,
   "id": "d0cfb8bf-9fc6-4d48-aada-52c39953d170",
   "metadata": {},
   "outputs": [],
   "source": [
    "rolling_yrs = 15\n",
    "line_color='darkblue'\n",
    "\n",
    "fig, (ax1,ax2,ax3) = plt.subplots(1,3, sharey=True, figsize=(12,5))\n",
    "\n",
    "glogem_runoff_gt.plot(ax=ax1, label='GloGEM', lw=0.5, alpha=0.5, color=line_color)\n",
    "glogem_runoff_gt.rolling(window=rolling_yrs).mean().plot(ax=ax1, label='GloGEM rolling mean', color=line_color)\n",
    "\n",
    "scaled_runoff.plot(ax=ax2, label='PyGEM', lw=0.5, alpha=0.5, color=line_color)\n",
    "scaled_runoff.rolling(time=rolling_yrs, min_periods=10).mean().plot(ax=ax2, label='PyGEM rolling mean', color=line_color)\n",
    "\n",
    "ax3.plot(t[:-1], total_runoff, label='OGGM', lw=0.5, alpha=0.5, color=line_color)\n",
    "ax3.plot(t[:-1], total_runoff.rolling(time=rolling_yrs, min_periods=10).mean(), label='OGGM rolling mean', color=line_color)\n",
    "\n",
    "ax1.set(xlabel = 'Year', ylabel='Annual runoff [Gt water]',\n",
    "      xlim=(datetime.date(2000,1,1), datetime.date(2101,1,1)),\n",
    "        title='GloGEM'\n",
    "       )\n",
    "ax2.set(xlabel = 'Year', ylabel='Annual runoff [Gt water]',\n",
    "      xlim=(datetime.date(2000,1,1), datetime.date(2101,1,1)),\n",
    "      title='PyGEM'\n",
    "       )\n",
    "ax3.set(xlabel = 'Year', ylabel='Annual runoff [Gt water]',\n",
    "      xlim=(datetime.date(2000,1,1), datetime.date(2101,1,1)),\n",
    "      title='OGGM'\n",
    "       )\n",
    "# fig.suptitle('Rhone runoff forced by {}, {} \\n {} \\n'.format(\n",
    "#     scaled_runoff.Climate_Model.values, which_ssp, datetime.date.today()))\n",
    "fig.suptitle('Rhone runoff forced by {}, {} \\n'.format(\n",
    "    scaled_runoff.Climate_Model.values, which_ssp))"
   ]
  },
  {
   "cell_type": "code",
   "execution_count": null,
   "id": "6c312861-0aac-4f89-80bb-f82ab7a1498b",
   "metadata": {},
   "outputs": [],
   "source": [
    "rolling_yrs = 15\n",
    "line_color='darkblue'\n",
    "\n",
    "\n",
    "fig, (ax1,ax2,ax3) = plt.subplots(1,3, sharey=True, figsize=(12,5))\n",
    "\n",
    "# ax1.plot(glogem_runoff_gt, lw=0.5, alpha=0.5, color=line_color)\n",
    "ax1.plot(glogem_runoff_gt.rolling(window=rolling_yrs, center=True).var(), color=line_color)\n",
    "# glogem_runoff_gt.rolling(window=rolling_yrs).var().plot(ax=ax1, label='GloGEM', color=line_color)\n",
    "scaled_runoff.rolling(time=rolling_yrs, min_periods=10, center=True).var().plot(ax=ax2, label='PyGEM', color=line_color)\n",
    "ax3.plot(t[:-1], total_runoff.rolling(time=rolling_yrs, min_periods=10, center=True).var(), label='OGGM', color=line_color)\n",
    "ax1.set(xlabel = 'Year', ylabel='Annual runoff variance',\n",
    "      xlim=(datetime.date(2000,1,1), datetime.date(2101,1,1)),\n",
    "        title='GloGEM'\n",
    "       )\n",
    "ax2.set(xlabel = 'Year', ylabel='',\n",
    "      xlim=(datetime.date(2000,1,1), datetime.date(2101,1,1)),\n",
    "      title='PyGEM'\n",
    "       )\n",
    "ax3.set(xlabel = 'Year',\n",
    "      xlim=(datetime.date(2000,1,1), datetime.date(2101,1,1)),\n",
    "      title='OGGM'\n",
    "       )\n",
    "\n",
    "for ax in (ax1,ax2,ax3):\n",
    "    ax.xaxis.set_major_locator(mdates.YearLocator(100, month=1, day=1))\n",
    "    ax.xaxis.set_major_formatter(mdates.DateFormatter('%Y'))\n",
    "\n",
    "plt.gcf().autofmt_xdate()\n",
    "\n",
    "fig.suptitle('Rhone runoff variance forced by {}, {}, {} year rolling \\n'.format(\n",
    "    scaled_runoff.Climate_Model.values, which_ssp, rolling_yrs))"
   ]
  },
  {
   "cell_type": "code",
   "execution_count": null,
   "id": "fac17c63-1360-4803-9c0d-ff68361177fc",
   "metadata": {},
   "outputs": [],
   "source": []
  },
  {
   "cell_type": "code",
   "execution_count": null,
   "id": "48534fce-ee5a-4e5d-bb35-8bbe71c3553d",
   "metadata": {},
   "outputs": [],
   "source": [
    "## add labels for AGM poster\n",
    "import matplotlib.dates as mdates\n",
    "rolling_yrs = 15\n",
    "line_color='darkblue'\n",
    "\n",
    "fig, (ax1,ax2,ax3) = plt.subplots(1,3, sharey=True, figsize=(12,5))\n",
    "\n",
    "## GloGEM\n",
    "# ax1.xaxis.set_major_locator(mdates.YearLocator(20, month=1, day=1))\n",
    "# ax1.xaxis.set_major_formatter(mdates.DateFormatter('%Y'))\n",
    "# rhine_runoff_total_gt.plot(ax=ax1, lw=0.5, alpha=0.5, color=line_color)\n",
    "# rhine_runoff_total_gt.rolling(window=rolling_yrs).mean().plot(ax=ax1, color=line_color)\n",
    "ax1.plot(glogem_runoff_gt, lw=0.5, alpha=0.5, color=line_color)\n",
    "ax1.plot(glogem_runoff_gt.rolling(window=rolling_yrs, center=True).mean(), color=line_color)\n",
    "\n",
    "## PyGEM\n",
    "scaled_runoff.plot(ax=ax2, lw=0.5, alpha=0.5, color=line_color)\n",
    "scaled_runoff.rolling(time=rolling_yrs, min_periods=10, center=True).mean().plot(ax=ax2, color=line_color)\n",
    "\n",
    "## OGGM\n",
    "ax3.plot(t[:-1], total_runoff, label='Annual', lw=0.5, alpha=0.5, color=line_color)\n",
    "ax3.plot(t[:-1], total_runoff.rolling(time=rolling_yrs, min_periods=10, center=True).mean(), label='15-yr rolling mean', color=line_color)\n",
    "ax3.legend(loc='lower right') \n",
    "\n",
    "ax1.set(xlabel = 'Year', ylabel='Annual runoff [Gt water]',\n",
    "      xlim=(datetime.date(2000,1,1), datetime.date(2101,1,1)),\n",
    "        title='GloGEM'\n",
    "       )\n",
    "ax2.set(xlabel = 'Year', ylabel='',\n",
    "      xlim=(datetime.date(2000,1,1), datetime.date(2101,1,1)),\n",
    "      title='PyGEM'\n",
    "       )\n",
    "ax3.set(xlabel = 'Year',\n",
    "      xlim=(datetime.date(2000,1,1), datetime.date(2101,1,1)),\n",
    "      title='OGGM'\n",
    "       )\n",
    "\n",
    "for ax in (ax1,ax2,ax3):\n",
    "    ax.xaxis.set_major_locator(mdates.YearLocator(20, month=1, day=1))\n",
    "    ax.xaxis.set_major_formatter(mdates.DateFormatter('%Y'))\n",
    "\n",
    "plt.gcf().autofmt_xdate()\n",
    "# fig.suptitle('Rhone runoff forced by {}, {} \\n {} \\n'.format(\n",
    "#     scaled_runoff.Climate_Model.values, which_ssp, datetime.date.today()))\n",
    "fig.suptitle('Rhone runoff forced by {}, {} \\n'.format(\n",
    "    scaled_runoff.Climate_Model.values, which_ssp))"
   ]
  },
  {
   "cell_type": "markdown",
   "id": "7dc216bb-ac77-4579-9e2d-79141e0104ad",
   "metadata": {},
   "source": [
    "## Okay, show us RCP 4.5 to go along with the SPEI plot"
   ]
  },
  {
   "cell_type": "code",
   "execution_count": null,
   "id": "bc7c507c-931d-473b-9d4a-f2787913197b",
   "metadata": {},
   "outputs": [],
   "source": []
  }
 ],
 "metadata": {
  "kernelspec": {
   "display_name": "Python 3 (ipykernel)",
   "language": "python",
   "name": "python3"
  },
  "language_info": {
   "codemirror_mode": {
    "name": "ipython",
    "version": 3
   },
   "file_extension": ".py",
   "mimetype": "text/x-python",
   "name": "python",
   "nbconvert_exporter": "python",
   "pygments_lexer": "ipython3",
   "version": "3.10.9"
  }
 },
 "nbformat": 4,
 "nbformat_minor": 5
}
